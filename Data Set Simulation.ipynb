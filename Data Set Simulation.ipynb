{
 "cells": [
  {
   "cell_type": "markdown",
   "metadata": {},
   "source": [
    "Data set idea: weight loss\n",
    "\n",
    "Variables:\n",
    "- day - time series\n",
    "- weight - float\n",
    "- calories - float\n",
    "    - split by carbs/protein/fat? put into separate variables by percent?\n",
    "- target calorie amount - same number throughout\n",
    "- over/under calorie target\n",
    "- exercise \n",
    "    - boolean?  True/False whether I exercised or not\n",
    "    - categorical? Listing different exercises (walk, run, yoga class, weight training)\n",
    "    - estimated calories burned?\n",
    "    \n",
    "Run weekly - 52 weeks per year over 2 years = 104 rows\n",
    "or \n",
    "Daily - January-April 2019 inclusive = 119 rows\n",
    "Can't figure out which would be better"
   ]
  },
  {
   "cell_type": "markdown",
   "metadata": {
    "toc": true
   },
   "source": [
    "<h1>Table of Contents<span class=\"tocSkip\"></span></h1>\n",
    "<div class=\"toc\"><ul class=\"toc-item\"></ul></div>"
   ]
  },
  {
   "cell_type": "code",
   "execution_count": 15,
   "metadata": {},
   "outputs": [],
   "source": [
    "import numpy as np\n",
    "import scipy.stats as stats"
   ]
  },
  {
   "cell_type": "markdown",
   "metadata": {},
   "source": [
    "## Weight Loss\n",
    "\n",
    "Could I do some kind of probability distribution that makes total weight go up/down?\n",
    "\n",
    "Or have one column with weight lost daily/weekly and then add/subtrct that to total weight in another column?\n",
    "\n",
    "Weight lost every week: Say I lose an average of 0.5kg per week with a standard deviation of 0.25 and over a normal distribution.\n",
    "\n",
    "Or with daily say it's 0.1kg per day average with a sd of 0.05g"
   ]
  },
  {
   "cell_type": "code",
   "execution_count": 5,
   "metadata": {},
   "outputs": [
    {
     "data": {
      "text/plain": [
       "array([0.53035613, 0.88478046, 0.55964979, 0.56001733, 0.59667093,\n",
       "       0.31311551, 0.71914459, 0.67809413, 0.30496321, 0.52273202,\n",
       "       0.65828197, 0.5751795 , 0.54437432, 0.64022229, 0.49510031,\n",
       "       0.30394233, 1.00859013, 0.41843989, 0.76184368, 0.76156894,\n",
       "       0.40020184, 0.83606138, 0.34500748, 0.65119132, 0.0249803 ,\n",
       "       0.21356769, 0.38433469, 0.74621044, 0.17837976, 0.59223687,\n",
       "       0.21175965, 0.46613562, 0.73158095, 0.34143563, 0.55083573,\n",
       "       0.2266482 , 0.59963481, 0.42507242, 0.46561568, 0.60765209,\n",
       "       0.4592892 , 0.34732109, 0.47363324, 0.30354446, 0.53904869,\n",
       "       0.09072466, 0.32202275, 0.50179435, 0.21138344, 0.87666462,\n",
       "       0.5758646 , 0.07212099, 0.59582876, 0.39890941, 0.70957669,\n",
       "       0.38937595, 1.10469012, 0.40929055, 0.66297524, 0.16667418,\n",
       "       0.5965485 , 0.725169  , 0.83149832, 0.51265098, 0.17875255,\n",
       "       0.64616257, 0.45651052, 0.33519331, 1.01582494, 0.37221676,\n",
       "       0.57066821, 0.84521821, 0.43125035, 0.69635181, 0.78294482,\n",
       "       0.40250412, 0.56683184, 0.62364066, 0.55891933, 0.64973826,\n",
       "       0.18930197, 0.38926426, 0.41422138, 0.53279092, 0.95685516,\n",
       "       0.70523693, 0.32706061, 0.61181505, 0.47277215, 0.43270384,\n",
       "       0.59847356, 0.68204745, 0.43933266, 0.27123183, 0.36003534,\n",
       "       0.74545171, 0.26029209, 0.72217987, 1.04039676, 0.90348224,\n",
       "       0.61393551, 0.68851493, 0.13612134, 0.52044354])"
      ]
     },
     "execution_count": 5,
     "metadata": {},
     "output_type": "execute_result"
    }
   ],
   "source": [
    "# Weight lost weekly. 104 rows \n",
    "\n",
    "np.random.normal(0.5, 0.25, 104)"
   ]
  },
  {
   "cell_type": "code",
   "execution_count": 8,
   "metadata": {},
   "outputs": [
    {
     "data": {
      "text/plain": [
       "array([ 0.04823538,  0.05268504,  0.03818897,  0.10028208,  0.15049938,\n",
       "        0.06705485,  0.19796406,  0.13823963,  0.13301308,  0.08469324,\n",
       "        0.09915494,  0.09579421,  0.01505269,  0.08865881,  0.02157471,\n",
       "        0.11173647,  0.10385302,  0.04290503,  0.14916911,  0.03375477,\n",
       "        0.08418452,  0.11190689,  0.0815706 ,  0.11259532,  0.0479105 ,\n",
       "        0.22872469,  0.10996354,  0.13157283,  0.03677594,  0.16255123,\n",
       "       -0.01447738,  0.00881524,  0.10208239,  0.09581126,  0.10159401,\n",
       "        0.15591235,  0.06051693, -0.01117296,  0.12933462,  0.1059988 ,\n",
       "        0.17398955,  0.09050691,  0.11695811,  0.05906398,  0.17039902,\n",
       "       -0.05065568,  0.09080038,  0.14892256,  0.18943022, -0.027365  ,\n",
       "        0.09096329, -0.01309662,  0.05394154,  0.0447996 ,  0.13082748,\n",
       "        0.06846907,  0.02682193,  0.16598939,  0.05903173,  0.11247033,\n",
       "        0.11283234,  0.08292   ,  0.14330124,  0.06922441,  0.08282333,\n",
       "        0.15810491,  0.05931984,  0.17152016,  0.03285623,  0.14384734,\n",
       "        0.15512644,  0.1725519 ,  0.05625741,  0.04867345,  0.14105615,\n",
       "        0.06781067,  0.14760547,  0.08406183,  0.1501457 ,  0.21083397,\n",
       "        0.11212988,  0.10894415,  0.10678187,  0.13603625,  0.09736506,\n",
       "        0.04547449,  0.12196167,  0.12204304,  0.14219251,  0.17516142,\n",
       "        0.03095344,  0.12990911,  0.07521394, -0.0153841 ,  0.07405125,\n",
       "        0.07813464,  0.13795788,  0.0262138 ,  0.08258286,  0.14660053,\n",
       "        0.17470493,  0.11992486,  0.08669673,  0.12835867,  0.15660825,\n",
       "        0.02676752,  0.06835801,  0.2038214 ,  0.12353263,  0.06582381,\n",
       "        0.19026842,  0.15692954,  0.17812599, -0.00265238,  0.03902795,\n",
       "        0.09458799,  0.04737126,  0.12187329,  0.17885118])"
      ]
     },
     "execution_count": 8,
     "metadata": {},
     "output_type": "execute_result"
    }
   ],
   "source": [
    "# Weight lost daily. 119 rows\n",
    "np.random.normal(0.1, 0.05, 119)"
   ]
  },
  {
   "cell_type": "markdown",
   "metadata": {},
   "source": [
    "## Exercise\n",
    "\n",
    "This makes a case for doing a daily dataset - can't figure out how to do this weekly\n",
    "\n",
    "Either use randint or random choice\n",
    "\n",
    "With randint - assign exercises to different integers\n",
    "\n",
    "None = 1\n",
    "Walk = 2\n",
    "Jog = 3\n",
    "Yoga = 4\n",
    "\n",
    "With random choice the options are (None, Walk, Jog, Yoga)\n",
    "\n",
    "Use choice as you can set probability for each option.\n",
    "\n",
    "Jan-Apr = 119 days = 17 weeks\n",
    "\n",
    "Say I do some form of exercise about 5 days per week: None = 2 * 17 = 34 days of no exercise = ~28% (make it 29 for 100% probability altogether)\n",
    "\n",
    "I walk 3 days per week: Walk = 3 * 104 = 51 walks = ~43%\n",
    "\n",
    "I jog 1 day per week = 17 jogs = ~14%\n",
    "\n",
    "I have a yoga class about 1 day per week = 17 yoga classes = ~14%\n"
   ]
  },
  {
   "cell_type": "code",
   "execution_count": 9,
   "metadata": {},
   "outputs": [
    {
     "data": {
      "text/plain": [
       "array(['jog', 'walk', 'walk', 'jog', 'walk', 'none', 'yoga', 'walk',\n",
       "       'none', 'none', 'none', 'walk', 'yoga', 'none', 'jog', 'walk',\n",
       "       'walk', 'walk', 'jog', 'walk', 'yoga', 'walk', 'walk', 'none',\n",
       "       'jog', 'walk', 'walk', 'yoga', 'none', 'jog', 'none', 'walk',\n",
       "       'yoga', 'walk', 'yoga', 'jog', 'walk', 'none', 'none', 'walk',\n",
       "       'walk', 'yoga', 'walk', 'none', 'walk', 'none', 'jog', 'none',\n",
       "       'none', 'none', 'jog', 'walk', 'none', 'walk', 'walk', 'yoga',\n",
       "       'walk', 'none', 'walk', 'walk', 'yoga', 'walk', 'walk', 'none',\n",
       "       'jog', 'jog', 'walk', 'walk', 'walk', 'walk', 'none', 'none',\n",
       "       'walk', 'yoga', 'walk', 'none', 'walk', 'jog', 'yoga', 'none',\n",
       "       'walk', 'walk', 'yoga', 'none', 'none', 'walk', 'walk', 'jog',\n",
       "       'none', 'yoga', 'walk', 'jog', 'walk', 'walk', 'none', 'none',\n",
       "       'jog', 'none', 'walk', 'yoga', 'walk', 'walk', 'walk', 'none',\n",
       "       'yoga', 'none', 'yoga', 'yoga', 'none', 'yoga', 'yoga', 'none',\n",
       "       'walk', 'jog', 'walk', 'none', 'walk', 'yoga', 'jog'], dtype='<U4')"
      ]
     },
     "execution_count": 9,
     "metadata": {},
     "output_type": "execute_result"
    }
   ],
   "source": [
    "excercises = [\"none\", \"walk\", \"jog\", \"yoga\"]\n",
    "\n",
    "np.random.choice(excercises, 119, p=[0.29, 0.43, 0.14, 0.14])"
   ]
  },
  {
   "cell_type": "markdown",
   "metadata": {},
   "source": [
    "## Calories\n",
    "\n",
    "Want to aim for 1500 calories per day \n",
    "\n",
    "Normal distribution again?\n",
    "\n",
    "Below shows normal and randint\n",
    "\n",
    "Maybe a truncated normal distribution as I should never go below 1200 calories but have some days where I'd eat over 2000"
   ]
  },
  {
   "cell_type": "code",
   "execution_count": 13,
   "metadata": {},
   "outputs": [
    {
     "data": {
      "text/plain": [
       "array([1624.88254971, 1811.02476626, 1768.04569619, 1311.0357598 ,\n",
       "       1454.96468981, 1649.34037328, 1410.05998199, 1672.30642564,\n",
       "       1426.85918865, 1820.95370879, 1366.77531938, 2040.6267263 ,\n",
       "       1614.76043116, 1314.38700067, 1424.16609353, 1441.35959415,\n",
       "       1342.7526411 , 1370.23697235, 1525.42608285, 1307.82017528,\n",
       "       1346.14749253, 1997.85829132, 1694.81822478, 1539.16984536,\n",
       "       1195.25494901, 1392.54834685, 1637.57112677, 1519.58212555,\n",
       "       1341.06099607, 1622.59002199, 1807.07423666, 1534.11183755,\n",
       "       1986.47828531, 1590.51650383, 1407.89523301, 1222.0186084 ,\n",
       "       1286.59311075, 1112.37908084, 1852.11993601, 1414.38764623,\n",
       "       2103.92814031, 1595.76208711, 1646.23403212, 1432.58422206,\n",
       "       1853.21034556, 1615.52624808, 1871.46828641, 1330.59431336,\n",
       "       1421.45829489, 1754.98282721, 1474.20464436, 1327.8536928 ,\n",
       "        763.64155357, 1713.47176701, 2356.14926579, 1783.95172583,\n",
       "       1109.17444653, 1405.08005244, 1919.63578326,  943.46026025,\n",
       "       1867.26264732, 1126.80031595, 1274.578528  , 1355.37567957,\n",
       "       1609.57720094, 1827.77142252,  957.11009196, 1833.93860208,\n",
       "       1131.04062011, 1809.71170467, 1654.79055131, 1572.08217827,\n",
       "       1528.4926913 , 1458.63452288, 1367.12727742, 1747.09876962,\n",
       "       1527.89172899, 1712.56171393, 1635.44247428, 1080.03401724,\n",
       "       1481.82069692, 1573.7566382 , 1220.26377388, 1453.32073828,\n",
       "       1094.01973549, 1292.30467753, 1310.50117912, 1600.19834203,\n",
       "       1341.04775238, 1685.50983245, 1596.86655648, 1202.19802233,\n",
       "       1334.95144859, 1663.22471866, 1755.56026906, 1079.54864423,\n",
       "       1315.72364202, 1507.331293  ,  897.11392025, 1244.4915457 ,\n",
       "       1353.35603496, 1371.68725782, 1375.88401395, 1525.98301387,\n",
       "       1704.02155528, 1528.8375803 , 1236.81934179, 1375.67873116,\n",
       "       1564.4118103 , 1996.92835546, 1441.80323788, 1983.89997969,\n",
       "       1240.77437797, 1545.23507455, 1336.71318245, 1610.24090512,\n",
       "       1490.6634312 , 1483.45447199, 1508.23954671])"
      ]
     },
     "execution_count": 13,
     "metadata": {},
     "output_type": "execute_result"
    }
   ],
   "source": [
    "np.random.normal(1500, 250, 119)"
   ]
  },
  {
   "cell_type": "code",
   "execution_count": 12,
   "metadata": {},
   "outputs": [
    {
     "data": {
      "text/plain": [
       "array([1668, 1540, 1319, 1246, 1215, 1380, 1359, 1709, 1401, 1266, 1691,\n",
       "       1454, 1561, 1597, 1205, 1476, 1511, 1535, 1606, 1536, 1376, 1659,\n",
       "       1461, 1501, 1788, 1482, 1491, 1202, 1312, 1369, 1268, 1416, 1413,\n",
       "       1583, 1716, 1478, 1467, 1552, 1726, 1581, 1269, 1612, 1431, 1300,\n",
       "       1567, 1233, 1341, 1633, 1528, 1560, 1674, 1248, 1547, 1230, 1683,\n",
       "       1694, 1267, 1282, 1368, 1394, 1490, 1515, 1517, 1445, 1725, 1688,\n",
       "       1602, 1542, 1445, 1224, 1370, 1534, 1490, 1259, 1569, 1296, 1496,\n",
       "       1597, 1528, 1628, 1393, 1425, 1537, 1353, 1228, 1537, 1615, 1451,\n",
       "       1265, 1557, 1686, 1209, 1353, 1308, 1222, 1738, 1779, 1636, 1372,\n",
       "       1471, 1416, 1527, 1456, 1468, 1540, 1222, 1759, 1629, 1664, 1228,\n",
       "       1215, 1747, 1716, 1536, 1227, 1408, 1425, 1598, 1575])"
      ]
     },
     "execution_count": 12,
     "metadata": {},
     "output_type": "execute_result"
    }
   ],
   "source": [
    "# or radint for neater values\n",
    "np.random.randint(1200, 1800, 119)"
   ]
  },
  {
   "cell_type": "code",
   "execution_count": 23,
   "metadata": {},
   "outputs": [
    {
     "data": {
      "text/plain": [
       "array([inf, inf, inf, inf, inf, inf, inf, inf, inf, inf, inf, inf, inf,\n",
       "       inf, inf, inf, inf, inf, inf, inf, inf, inf, inf, inf, inf, inf,\n",
       "       inf, inf, inf, inf, inf, inf, inf, inf, inf, inf, inf, inf, inf,\n",
       "       inf, inf, inf, inf, inf, inf, inf, inf, inf, inf, inf, inf, inf,\n",
       "       inf, inf, inf, inf, inf, inf, inf, inf, inf, inf, inf, inf, inf,\n",
       "       inf, inf, inf, inf, inf, inf, inf, inf, inf, inf, inf, inf, inf,\n",
       "       inf, inf, inf, inf, inf, inf, inf, inf, inf, inf, inf, inf, inf,\n",
       "       inf, inf, inf, inf, inf, inf, inf, inf, inf, inf, inf, inf, inf,\n",
       "       inf, inf, inf, inf, inf, inf, inf, inf, inf, inf, inf, inf, inf,\n",
       "       inf, inf])"
      ]
     },
     "execution_count": 23,
     "metadata": {},
     "output_type": "execute_result"
    }
   ],
   "source": [
    "# https://stackoverflow.com/a/18444710\n",
    "#low = 1200\n",
    "#high = 2500\n",
    "#mu = 1500\n",
    "#sigma = 250\n",
    "\n",
    "#x = stats.truncnorm((low - mu)/sigma, (high - mu)/sigma, loc=mu, scale=sigma, size=119)\n",
    "#x\n",
    "\n",
    "\n",
    "# https://docs.scipy.org/doc/scipy-0.15.1/reference/generated/scipy.stats.truncnorm.html\n",
    "# Figure it out!\n",
    "stats.truncnorm.rvs(1200, 2500, size = 119)"
   ]
  },
  {
   "cell_type": "code",
   "execution_count": null,
   "metadata": {},
   "outputs": [],
   "source": []
  }
 ],
 "metadata": {
  "kernelspec": {
   "display_name": "Python 3",
   "language": "python",
   "name": "python3"
  },
  "language_info": {
   "codemirror_mode": {
    "name": "ipython",
    "version": 3
   },
   "file_extension": ".py",
   "mimetype": "text/x-python",
   "name": "python",
   "nbconvert_exporter": "python",
   "pygments_lexer": "ipython3",
   "version": "3.7.4"
  },
  "toc": {
   "base_numbering": 1,
   "nav_menu": {},
   "number_sections": true,
   "sideBar": false,
   "skip_h1_title": true,
   "title_cell": "Table of Contents",
   "title_sidebar": "Contents",
   "toc_cell": true,
   "toc_position": {},
   "toc_section_display": true,
   "toc_window_display": false
  }
 },
 "nbformat": 4,
 "nbformat_minor": 2
}
