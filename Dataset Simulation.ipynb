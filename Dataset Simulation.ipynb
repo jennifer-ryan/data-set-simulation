{
 "cells": [
  {
   "cell_type": "markdown",
   "metadata": {},
   "source": [
    "Data set idea: weight loss\n",
    "\n",
    "Variables:\n",
    "- day - daily time series\n",
    "\n",
    "- weight \n",
    "    - estimated by calories in / calories out based on 3500 as 450 lost (https://www.mayoclinic.org/healthy-lifestyle/weight-loss/in-depth/calories/art-20048065) so every 1 calorie = 0.0128205128g\n",
    "    - Weight loss will be calculated each day. (calories out - calories in) * 0.0128205128 +/- random noise as weight loss is not exact\n",
    "\n",
    "\n",
    "- calories in based on logging food with LoseIt \n",
    "    - split by carbs/protein/fat? put into separate variables by percent?\n",
    "    - Not going to split by c/p/f in dataset but will just state calorie count assuming she maintains good ratios \n",
    "    \n",
    "    \n",
    "- calories out - based on BMR/TDEE and exercise\n",
    "- target calorie amount - same number throughout\n",
    "- over/under calorie target\n",
    "- exercise \n",
    "    - boolean?  True/False whether I exercised or not\n",
    "    - categorical? Listing different exercises (walk, run, yoga class, weight training)\n",
    "    - estimated calories burned?\n",
    " - calories out - tdee + exercise \n",
    "     - function created to calculate tdee as it fluctuates each day\n",
    "     - maybe +/- random amount to exercise so it's not so samey\n",
    "    \n",
    "Run weekly - 52 weeks per year over 2 years = 104 rows\n",
    "or \n",
    "Daily - January-April 2019 inclusive = 119 rows\n",
    "Can't figure out which would be better"
   ]
  },
  {
   "cell_type": "markdown",
   "metadata": {
    "toc": true
   },
   "source": [
    "<h1>Table of Contents<span class=\"tocSkip\"></span></h1>\n",
    "<div class=\"toc\"><ul class=\"toc-item\"><li><span><a href=\"#Calories\" data-toc-modified-id=\"Calories-1\"><span class=\"toc-item-num\">1&nbsp;&nbsp;</span>Calories</a></span></li><li><span><a href=\"#Weight-Loss\" data-toc-modified-id=\"Weight-Loss-2\"><span class=\"toc-item-num\">2&nbsp;&nbsp;</span>Weight Loss</a></span></li><li><span><a href=\"#Exercise\" data-toc-modified-id=\"Exercise-3\"><span class=\"toc-item-num\">3&nbsp;&nbsp;</span>Exercise</a></span></li><li><span><a href=\"#Calories\" data-toc-modified-id=\"Calories-4\"><span class=\"toc-item-num\">4&nbsp;&nbsp;</span>Calories</a></span></li></ul></div>"
   ]
  },
  {
   "cell_type": "markdown",
   "metadata": {},
   "source": [
    "This project simulates a dataset created by a woman who decided to track her weight loss efforts over the course of a year. She set a daily calorie goal and committed to exercising for one hour approximately five days per week. She did a lot of research before beginning her journey to set herself up for success and was very fastidious in logging her calorie intake and estimated calorie output. \n",
    "\n"
   ]
  },
  {
   "cell_type": "markdown",
   "metadata": {},
   "source": [
    "## Time\n",
    "\n",
    "There is "
   ]
  },
  {
   "cell_type": "markdown",
   "metadata": {},
   "source": [
    "## Calories\n",
    "\n",
    "Weight loss is very complex and depends on many factors such as: (https://www.niddk.nih.gov/health-information/weight-management/adult-overweight-obesity/factors-affecting-weight-health)\n",
    "\n",
    "- Genetics\n",
    "- Race\n",
    "- Sex\n",
    "- Age\n",
    "- Diet\n",
    "- Physical activity\n",
    "- Environment\n",
    "- Medical issues\n",
    "\n",
    "The person in this case is a 30 year old white Irish woman who lives in the suburbs and works at a sedentary office job. She has a moderately balanced diet but exercises very little and does not have any known medical issues that would hinder weight loss. She believes that she can begin to lose weight by making some slight lifestyle adjustments rather than any drastic changes in particular lessening her calorie intake and adding in a bit of exercise. \n",
    "\n",
    "The first thing she did was calculate how many calories she should consume per day in order to steadily lose weight. Two measurements were important here, her Basal Metabolic Rate (BMR) and Total Daily Energy Expenditure (TDEE). The BMR is the energy expenditure over a certain period of time by a person at rest (https://en.wikipedia.org/wiki/Basal_metabolic_rate). In other words, it is the number of calories burned by the body just by functioning normally without moving, such as breathing and circulating blood. It can be estimated based on a person's gender age, weight and height. The TDEE then is the number of calories a person should consume to maintain their current weight. There are many online calculators that help a person figure out their BMR - I have used a few different ones here see if different measurements are achieved:\n",
    "\n",
    "Measurements used: Female, 30 years old, starting weight 80k,  height 175cm:\n",
    "\n",
    "BMR\n",
    "- 1578: https://tdeecalculator.net/  \n",
    "- 1591: https://www.active.com/fitness/calculators/bmr \n",
    "- 1598: https://www.bodybuilding.com/fun/bmr_calculator.htm \n",
    "- 1578: https://www.calculator.net/bmr-calculator.html# \n",
    "- 1578: https://www.thecalculatorsite.com/health/bmr-calculator.php  (Mifflin St Jeor)\n",
    "- 1600: https://www.thecalculatorsite.com/health/bmr-calculator.php (Harris Benedict)\n",
    "\n",
    "TDEE: \n",
    "- https://tdeecalculator.net/ TDEE: 1894\n",
    "\n",
    "https://www.thecalculatorsite.com/health/bmr-calculator.php - has good explanation of equations\n",
    "\n",
    "\n",
    "Of course, not all calories are created equal. She could eat 1500 calories worth of junk food and still lose weight but this, of course would not be healthy. She aims each day to split her calorie allowance as follows: (https://www.healthline.com/nutrition/best-macronutrient-ratio#calorie-vs-calorie)\n",
    "\n",
    "    - 45-65% carbohydrates\n",
    "    - 20-35% fats\n",
    "    - 10-35% proteins \n",
    "    \n",
    "In this dataset the focus is on calories in and out but our subject is generally quite good at sticking to the above ratios. "
   ]
  },
  {
   "cell_type": "markdown",
   "metadata": {},
   "source": [
    "For exercise, look into how different exercises affect weight loss - a combination of cardio, strength training and flexibility training: https://www.verywellfit.com/types-of-exercise-for-weight-loss-3495992"
   ]
  },
  {
   "cell_type": "markdown",
   "metadata": {},
   "source": [
    "With calories I might split by protein, ft and carbs - "
   ]
  },
  {
   "cell_type": "code",
   "execution_count": 4,
   "metadata": {},
   "outputs": [],
   "source": [
    "import numpy as np\n",
    "import scipy.stats as stats"
   ]
  },
  {
   "cell_type": "markdown",
   "metadata": {},
   "source": [
    "## Weight Loss\n",
    "\n",
    "Could I do some kind of probability distribution that makes total weight go up/down?\n",
    "\n",
    "Or have one column with weight lost daily/weekly and then add/subtrct that to total weight in another column?\n",
    "\n",
    "Weight lost every week: Say I lose an average of 0.5kg per week with a standard deviation of 0.25 and over a normal distribution.\n",
    "\n",
    "Or with daily say it's 0.1kg per day average with a sd of 0.05g\n",
    "\n",
    "No! I should base the weight loss on the other variables - exercise and calories - with a random amount added or subtracted as weight loss is not exact (is this noise?)"
   ]
  },
  {
   "cell_type": "code",
   "execution_count": 2,
   "metadata": {},
   "outputs": [
    {
     "data": {
      "text/plain": [
       "array([ 0.13012706,  0.49724086,  0.13719475,  0.89175254,  0.40063128,\n",
       "        0.42924943,  0.40452575,  0.91949816,  0.49738822,  0.71866744,\n",
       "        0.47086858,  0.50701541,  0.53287735,  0.45823149,  0.20725223,\n",
       "        1.09979822,  0.71072496,  0.3302682 ,  0.49614103,  0.32572514,\n",
       "        0.30447251,  0.26719777,  0.69043261,  0.52492983,  0.66215943,\n",
       "        0.33906003,  0.2488289 ,  1.22853539,  0.55286143,  0.47032207,\n",
       "        0.79821279,  0.81538208,  0.50952585,  0.25177411,  0.19377072,\n",
       "        0.59268171,  0.80254228,  0.64594729,  0.8560182 ,  0.87042465,\n",
       "        0.35079541, -0.01804749,  0.59794315,  0.46326483,  0.17071222,\n",
       "        0.69527576,  0.30306028,  0.42975722,  0.67331467,  0.4925664 ,\n",
       "        0.33853146,  0.23951354,  0.77301558,  0.59094509,  0.17933425,\n",
       "        0.02224223,  0.70123864,  0.72765641,  0.71818548,  0.60221964,\n",
       "        0.36404836,  0.39222795,  0.55600545,  0.21925274,  0.82171082,\n",
       "        0.42505134,  0.57784569,  0.30456357,  0.14285086,  0.58638873,\n",
       "        0.63798059,  0.8666049 ,  0.25535023,  0.71735994,  0.70250918,\n",
       "        0.59661523,  0.38541647,  0.85500173,  0.3882939 ,  0.54678831,\n",
       "        0.40695581,  0.24343775,  0.34856564,  0.74214303,  0.70610151,\n",
       "        0.34137958,  0.65112997,  0.19778163,  0.53161006,  0.92125879,\n",
       "        0.64963123,  0.34651988,  0.63472444,  0.5001816 ,  0.79304474,\n",
       "        0.31773026,  0.49925479,  0.63877148,  0.5461359 ,  0.42330643,\n",
       "        0.46136346,  0.68522697,  0.70510302,  0.62827013])"
      ]
     },
     "execution_count": 2,
     "metadata": {},
     "output_type": "execute_result"
    }
   ],
   "source": [
    "# Weight lost weekly. 104 rows \n",
    "\n",
    "np.random.normal(0.5, 0.25, 104)"
   ]
  },
  {
   "cell_type": "code",
   "execution_count": 3,
   "metadata": {},
   "outputs": [
    {
     "data": {
      "text/plain": [
       "array([ 0.05749343,  0.13762309,  0.09541611,  0.14808345,  0.16620565,\n",
       "        0.05347955,  0.16697243,  0.03574243,  0.12906303,  0.08974969,\n",
       "        0.09981942,  0.11737366,  0.08347328,  0.11054761,  0.08462324,\n",
       "        0.02741881,  0.06358543,  0.16249593,  0.12901488,  0.0782531 ,\n",
       "        0.08107133,  0.1073925 ,  0.0908974 ,  0.11153723,  0.09663581,\n",
       "        0.19168949, -0.00493186,  0.14499999,  0.11679388,  0.06660249,\n",
       "        0.11168197,  0.1640002 ,  0.104309  ,  0.100981  , -0.0493779 ,\n",
       "        0.11379037,  0.19125254,  0.05426019,  0.10845167,  0.06784708,\n",
       "        0.07407412,  0.1567922 ,  0.10345787, -0.03311466,  0.09173148,\n",
       "        0.15094187,  0.14504863,  0.19877109,  0.09655501,  0.10936192,\n",
       "        0.08967867,  0.06879127,  0.12013615,  0.08132892,  0.04561628,\n",
       "       -0.01156926,  0.02832457,  0.0761465 ,  0.04997726,  0.11806948,\n",
       "        0.08283738,  0.12521551,  0.13280194,  0.11225854,  0.01985874,\n",
       "        0.09902335,  0.09996822,  0.10918413,  0.08867426,  0.01741634,\n",
       "        0.12509588,  0.08557558,  0.14293702,  0.05671982,  0.09515404,\n",
       "        0.06339376,  0.09405888,  0.07376178,  0.05141865,  0.11092161,\n",
       "        0.12022443,  0.10787024,  0.125113  ,  0.07733206,  0.13580926,\n",
       "        0.05682811,  0.10432127,  0.12252338,  0.04874491,  0.16351078,\n",
       "        0.04644327,  0.18377861,  0.14164212,  0.11445505,  0.02642131,\n",
       "        0.17552042,  0.080435  ,  0.21982863,  0.09377416,  0.08691995,\n",
       "        0.17294707,  0.21514954,  0.07480604,  0.09477047,  0.18912985,\n",
       "        0.0968902 ,  0.12468552,  0.1494938 ,  0.13687916,  0.1696438 ,\n",
       "        0.13399482,  0.21091356,  0.12866179,  0.12413351,  0.08507337,\n",
       "        0.13103416,  0.02963539,  0.11709505,  0.07984169])"
      ]
     },
     "execution_count": 3,
     "metadata": {},
     "output_type": "execute_result"
    }
   ],
   "source": [
    "# Weight lost daily. 119 rows\n",
    "np.random.normal(0.1, 0.05, 119)"
   ]
  },
  {
   "cell_type": "markdown",
   "metadata": {},
   "source": [
    "## Exercise\n",
    "\n",
    "This makes a case for doing a daily dataset - can't figure out how to do this weekly\n",
    "\n",
    "Either use randint or random choice\n",
    "\n",
    "With randint - assign exercises to different integers\n",
    "\n",
    "None = 1\n",
    "Walk = 2\n",
    "Jog = 3\n",
    "Yoga = 4\n",
    "\n",
    "With random choice the options are (None, Walk, Jog, Yoga)\n",
    "\n",
    "Use choice as you can set probability for each option.\n",
    "\n",
    "Jan-Apr = 119 days = 17 weeks\n",
    "\n",
    "Say I do some form of exercise about 5 days per week: None = 2 * 17 = 34 days of no exercise = ~28% (make it 29 for 100% probability altogether)\n",
    "\n",
    "I walk 3 days per week: Walk = 3 * 104 = 51 walks = ~43%\n",
    "\n",
    "I jog 1 day per week = 17 jogs = ~14%\n",
    "\n",
    "I have a yoga class about 1 day per week = 17 yoga classes = ~14%\n",
    "\n",
    "\n",
    "OR!\n",
    "\n",
    "I could still do the weekly thing if I change the size so it gives an array!\n"
   ]
  },
  {
   "cell_type": "code",
   "execution_count": 5,
   "metadata": {},
   "outputs": [
    {
     "data": {
      "text/plain": [
       "array([['walk', 'none', 'walk', 'walk', 'jog', 'none', 'none'],\n",
       "       ['yoga', 'yoga', 'none', 'walk', 'none', 'none', 'yoga'],\n",
       "       ['yoga', 'yoga', 'walk', 'walk', 'walk', 'none', 'yoga'],\n",
       "       ['walk', 'yoga', 'walk', 'jog', 'walk', 'jog', 'none'],\n",
       "       ['jog', 'yoga', 'yoga', 'none', 'none', 'none', 'jog'],\n",
       "       ['walk', 'none', 'jog', 'jog', 'none', 'none', 'none'],\n",
       "       ['walk', 'walk', 'yoga', 'jog', 'walk', 'jog', 'none'],\n",
       "       ['none', 'jog', 'none', 'none', 'none', 'walk', 'jog'],\n",
       "       ['yoga', 'none', 'walk', 'jog', 'none', 'walk', 'none'],\n",
       "       ['walk', 'walk', 'none', 'none', 'none', 'walk', 'walk'],\n",
       "       ['jog', 'yoga', 'none', 'none', 'none', 'none', 'none'],\n",
       "       ['walk', 'walk', 'jog', 'yoga', 'yoga', 'yoga', 'walk'],\n",
       "       ['none', 'none', 'walk', 'yoga', 'none', 'walk', 'walk'],\n",
       "       ['jog', 'walk', 'walk', 'none', 'walk', 'walk', 'yoga'],\n",
       "       ['jog', 'none', 'yoga', 'walk', 'walk', 'none', 'none'],\n",
       "       ['none', 'walk', 'walk', 'none', 'jog', 'jog', 'walk'],\n",
       "       ['walk', 'walk', 'yoga', 'walk', 'walk', 'none', 'none'],\n",
       "       ['none', 'yoga', 'walk', 'walk', 'none', 'none', 'jog'],\n",
       "       ['walk', 'none', 'none', 'jog', 'none', 'jog', 'walk'],\n",
       "       ['none', 'yoga', 'walk', 'yoga', 'walk', 'walk', 'none'],\n",
       "       ['walk', 'walk', 'none', 'none', 'walk', 'none', 'walk'],\n",
       "       ['yoga', 'none', 'none', 'jog', 'jog', 'walk', 'none'],\n",
       "       ['none', 'walk', 'walk', 'yoga', 'yoga', 'none', 'walk'],\n",
       "       ['walk', 'walk', 'none', 'walk', 'yoga', 'yoga', 'yoga'],\n",
       "       ['jog', 'jog', 'yoga', 'jog', 'yoga', 'jog', 'yoga'],\n",
       "       ['none', 'none', 'yoga', 'none', 'none', 'none', 'yoga'],\n",
       "       ['walk', 'walk', 'none', 'yoga', 'yoga', 'walk', 'jog'],\n",
       "       ['jog', 'none', 'walk', 'none', 'walk', 'none', 'walk'],\n",
       "       ['walk', 'walk', 'none', 'none', 'none', 'jog', 'walk'],\n",
       "       ['walk', 'none', 'jog', 'walk', 'none', 'jog', 'jog'],\n",
       "       ['yoga', 'none', 'none', 'walk', 'yoga', 'none', 'yoga'],\n",
       "       ['none', 'none', 'walk', 'none', 'walk', 'jog', 'none'],\n",
       "       ['none', 'jog', 'none', 'yoga', 'jog', 'walk', 'walk'],\n",
       "       ['walk', 'jog', 'walk', 'walk', 'walk', 'walk', 'walk'],\n",
       "       ['jog', 'walk', 'none', 'none', 'yoga', 'yoga', 'none'],\n",
       "       ['walk', 'walk', 'yoga', 'yoga', 'walk', 'walk', 'walk'],\n",
       "       ['walk', 'none', 'none', 'jog', 'walk', 'none', 'walk'],\n",
       "       ['walk', 'walk', 'none', 'walk', 'walk', 'walk', 'none'],\n",
       "       ['walk', 'none', 'walk', 'jog', 'walk', 'jog', 'walk'],\n",
       "       ['walk', 'yoga', 'none', 'yoga', 'walk', 'walk', 'walk'],\n",
       "       ['walk', 'none', 'none', 'jog', 'walk', 'walk', 'jog'],\n",
       "       ['none', 'walk', 'none', 'none', 'walk', 'walk', 'walk'],\n",
       "       ['jog', 'jog', 'none', 'jog', 'walk', 'walk', 'walk'],\n",
       "       ['walk', 'walk', 'none', 'walk', 'walk', 'jog', 'none'],\n",
       "       ['none', 'yoga', 'walk', 'none', 'walk', 'none', 'yoga'],\n",
       "       ['walk', 'walk', 'walk', 'jog', 'walk', 'none', 'none'],\n",
       "       ['jog', 'walk', 'jog', 'walk', 'walk', 'yoga', 'walk'],\n",
       "       ['none', 'walk', 'walk', 'walk', 'none', 'walk', 'walk'],\n",
       "       ['yoga', 'walk', 'walk', 'walk', 'jog', 'walk', 'walk'],\n",
       "       ['walk', 'yoga', 'walk', 'none', 'walk', 'walk', 'yoga'],\n",
       "       ['none', 'walk', 'yoga', 'jog', 'jog', 'walk', 'walk'],\n",
       "       ['yoga', 'walk', 'walk', 'walk', 'walk', 'jog', 'walk'],\n",
       "       ['yoga', 'walk', 'yoga', 'jog', 'walk', 'walk', 'walk'],\n",
       "       ['walk', 'none', 'walk', 'walk', 'walk', 'walk', 'none'],\n",
       "       ['walk', 'none', 'jog', 'walk', 'none', 'walk', 'walk'],\n",
       "       ['walk', 'yoga', 'walk', 'jog', 'none', 'jog', 'walk'],\n",
       "       ['none', 'walk', 'none', 'walk', 'yoga', 'walk', 'none'],\n",
       "       ['walk', 'none', 'none', 'walk', 'none', 'jog', 'none'],\n",
       "       ['walk', 'none', 'yoga', 'walk', 'yoga', 'yoga', 'yoga'],\n",
       "       ['walk', 'none', 'walk', 'none', 'walk', 'walk', 'none'],\n",
       "       ['yoga', 'walk', 'none', 'jog', 'walk', 'none', 'none'],\n",
       "       ['walk', 'none', 'jog', 'walk', 'walk', 'none', 'none'],\n",
       "       ['none', 'none', 'jog', 'walk', 'walk', 'yoga', 'jog'],\n",
       "       ['none', 'walk', 'walk', 'jog', 'walk', 'walk', 'walk'],\n",
       "       ['none', 'none', 'walk', 'none', 'none', 'walk', 'walk'],\n",
       "       ['none', 'walk', 'yoga', 'jog', 'none', 'walk', 'walk'],\n",
       "       ['none', 'yoga', 'yoga', 'walk', 'walk', 'jog', 'walk'],\n",
       "       ['walk', 'walk', 'walk', 'jog', 'yoga', 'none', 'walk'],\n",
       "       ['none', 'walk', 'jog', 'jog', 'none', 'walk', 'yoga'],\n",
       "       ['walk', 'walk', 'none', 'none', 'none', 'walk', 'none'],\n",
       "       ['walk', 'walk', 'walk', 'none', 'yoga', 'walk', 'none'],\n",
       "       ['yoga', 'walk', 'walk', 'walk', 'walk', 'walk', 'none'],\n",
       "       ['walk', 'none', 'jog', 'none', 'yoga', 'walk', 'jog'],\n",
       "       ['jog', 'walk', 'jog', 'jog', 'none', 'walk', 'yoga'],\n",
       "       ['jog', 'walk', 'none', 'none', 'yoga', 'walk', 'jog'],\n",
       "       ['none', 'yoga', 'walk', 'none', 'jog', 'jog', 'walk'],\n",
       "       ['walk', 'none', 'jog', 'none', 'walk', 'none', 'walk'],\n",
       "       ['walk', 'walk', 'walk', 'jog', 'walk', 'walk', 'none'],\n",
       "       ['walk', 'walk', 'yoga', 'none', 'yoga', 'jog', 'yoga'],\n",
       "       ['walk', 'none', 'yoga', 'walk', 'yoga', 'walk', 'none'],\n",
       "       ['none', 'none', 'none', 'walk', 'walk', 'walk', 'yoga'],\n",
       "       ['walk', 'walk', 'jog', 'walk', 'walk', 'yoga', 'walk'],\n",
       "       ['walk', 'none', 'none', 'walk', 'yoga', 'none', 'walk'],\n",
       "       ['walk', 'none', 'walk', 'yoga', 'yoga', 'walk', 'jog'],\n",
       "       ['none', 'none', 'none', 'none', 'walk', 'none', 'walk'],\n",
       "       ['walk', 'none', 'jog', 'walk', 'yoga', 'jog', 'walk'],\n",
       "       ['yoga', 'walk', 'yoga', 'none', 'jog', 'walk', 'yoga'],\n",
       "       ['yoga', 'jog', 'walk', 'none', 'walk', 'walk', 'none'],\n",
       "       ['yoga', 'walk', 'walk', 'none', 'none', 'none', 'none'],\n",
       "       ['none', 'none', 'walk', 'none', 'yoga', 'none', 'walk'],\n",
       "       ['none', 'yoga', 'walk', 'none', 'walk', 'jog', 'walk'],\n",
       "       ['none', 'walk', 'none', 'none', 'walk', 'jog', 'yoga'],\n",
       "       ['walk', 'walk', 'walk', 'walk', 'none', 'walk', 'walk'],\n",
       "       ['walk', 'walk', 'none', 'none', 'yoga', 'walk', 'yoga'],\n",
       "       ['jog', 'none', 'jog', 'none', 'none', 'walk', 'walk'],\n",
       "       ['walk', 'none', 'none', 'walk', 'walk', 'none', 'yoga'],\n",
       "       ['walk', 'yoga', 'yoga', 'walk', 'walk', 'walk', 'yoga'],\n",
       "       ['walk', 'walk', 'walk', 'walk', 'walk', 'none', 'none'],\n",
       "       ['walk', 'walk', 'walk', 'walk', 'walk', 'walk', 'yoga'],\n",
       "       ['walk', 'none', 'walk', 'walk', 'walk', 'none', 'walk'],\n",
       "       ['none', 'walk', 'yoga', 'none', 'walk', 'none', 'walk'],\n",
       "       ['none', 'none', 'jog', 'none', 'none', 'yoga', 'walk'],\n",
       "       ['none', 'none', 'jog', 'none', 'walk', 'jog', 'yoga'],\n",
       "       ['walk', 'none', 'walk', 'jog', 'walk', 'none', 'none'],\n",
       "       ['walk', 'none', 'walk', 'yoga', 'walk', 'walk', 'none'],\n",
       "       ['none', 'none', 'yoga', 'none', 'jog', 'walk', 'yoga'],\n",
       "       ['walk', 'walk', 'none', 'jog', 'yoga', 'yoga', 'none'],\n",
       "       ['walk', 'walk', 'none', 'walk', 'jog', 'walk', 'walk'],\n",
       "       ['walk', 'yoga', 'jog', 'none', 'yoga', 'walk', 'yoga'],\n",
       "       ['none', 'yoga', 'none', 'none', 'none', 'walk', 'walk'],\n",
       "       ['walk', 'none', 'jog', 'walk', 'jog', 'walk', 'jog'],\n",
       "       ['none', 'walk', 'walk', 'walk', 'jog', 'walk', 'walk'],\n",
       "       ['walk', 'none', 'walk', 'none', 'none', 'none', 'walk'],\n",
       "       ['walk', 'jog', 'yoga', 'none', 'walk', 'jog', 'walk'],\n",
       "       ['yoga', 'none', 'walk', 'walk', 'none', 'walk', 'yoga'],\n",
       "       ['none', 'walk', 'none', 'yoga', 'walk', 'none', 'walk'],\n",
       "       ['none', 'none', 'none', 'jog', 'none', 'jog', 'yoga'],\n",
       "       ['jog', 'yoga', 'walk', 'walk', 'none', 'none', 'jog'],\n",
       "       ['walk', 'walk', 'walk', 'yoga', 'yoga', 'yoga', 'walk']],\n",
       "      dtype='<U4')"
      ]
     },
     "execution_count": 5,
     "metadata": {},
     "output_type": "execute_result"
    }
   ],
   "source": [
    "excercises = [\"none\", \"walk\", \"jog\", \"yoga\"]\n",
    "\n",
    "np.random.choice(excercises, size = (119, 7), p=[0.29, 0.43, 0.14, 0.14])"
   ]
  },
  {
   "cell_type": "markdown",
   "metadata": {},
   "source": [
    "## Calories\n",
    "\n",
    "Want to aim for 1500 calories per day \n",
    "\n",
    "Normal distribution again?\n",
    "\n",
    "Below shows normal and randint\n",
    "\n",
    "Maybe a truncated normal distribution as I should never go below 1200 calories but have some days where I'd eat over 2000"
   ]
  },
  {
   "cell_type": "code",
   "execution_count": null,
   "metadata": {},
   "outputs": [],
   "source": [
    "np.random.normal(1500, 250, 119)"
   ]
  },
  {
   "cell_type": "code",
   "execution_count": null,
   "metadata": {},
   "outputs": [],
   "source": [
    "# or radint for neater values\n",
    "np.random.randint(1200, 1800, 119)"
   ]
  },
  {
   "cell_type": "code",
   "execution_count": null,
   "metadata": {},
   "outputs": [],
   "source": [
    "# https://stackoverflow.com/a/18444710\n",
    "#low = 1200\n",
    "#high = 2500\n",
    "#mu = 1500\n",
    "#sigma = 250\n",
    "\n",
    "#x = stats.truncnorm((low - mu)/sigma, (high - mu)/sigma, loc=mu, scale=sigma, size=119)\n",
    "#x\n",
    "\n",
    "\n",
    "# https://docs.scipy.org/doc/scipy-0.15.1/reference/generated/scipy.stats.truncnorm.html\n",
    "# Figure it out!\n",
    "stats.truncnorm.rvs(1200, 2500, size = 119)"
   ]
  },
  {
   "cell_type": "markdown",
   "metadata": {},
   "source": [
    "Since BMR and TDEE are both going to change as weight fluctuates, I have created the function below to recalculate them each day as part of the calories burned. I have used the Mifflin-St Jeor calculation as it is widely used and deemed to be quite accurate"
   ]
  },
  {
   "cell_type": "code",
   "execution_count": 3,
   "metadata": {},
   "outputs": [
    {
     "data": {
      "text/plain": [
       "1899.3"
      ]
     },
     "execution_count": 3,
     "metadata": {},
     "output_type": "execute_result"
    }
   ],
   "source": [
    "# TDEE function\n",
    "# only weight will change in this calculation\n",
    "\n",
    "def tdee(weight):\n",
    "    bmr = 10 * weight + 6.25 * 175 - 5 * 30 -161\n",
    "    result = bmr * 1.2\n",
    "    return result\n",
    "\n",
    "tdee(80)"
   ]
  },
  {
   "cell_type": "markdown",
   "metadata": {},
   "source": [
    "Below is a function that tracks the estimated calories burned by exercising. Our subject exercises most days per week and averages at about 45 minutes per session, sometimes more, sometimes less. She uses her fitbit to calculate the amount of calories burned for each exercise session and logs that into her spreadsheet. "
   ]
  },
  {
   "cell_type": "code",
   "execution_count": 29,
   "metadata": {},
   "outputs": [
    {
     "data": {
      "text/plain": [
       "264.8884359501582"
      ]
     },
     "execution_count": 29,
     "metadata": {},
     "output_type": "execute_result"
    }
   ],
   "source": [
    "# https://stackoverflow.com/questions/26886653/pandas-create-new-column-based-on-values-from-other-columns-apply-a-function-o\n",
    "\n",
    "def exercise(activity):\n",
    "    if activity == 'yoga':\n",
    "        return np.random.normal(150, 50)\n",
    "    elif activity == 'walking':\n",
    "        return np.random.normal(250, 50)\n",
    "    elif activity == 'jogging':\n",
    "        return np.random.normal(300, 50)\n",
    "    else:\n",
    "        return 0\n",
    "    \n",
    "exercise('jogging')"
   ]
  },
  {
   "cell_type": "code",
   "execution_count": null,
   "metadata": {},
   "outputs": [],
   "source": []
  },
  {
   "cell_type": "code",
   "execution_count": null,
   "metadata": {},
   "outputs": [],
   "source": []
  }
 ],
 "metadata": {
  "kernelspec": {
   "display_name": "Python 3",
   "language": "python",
   "name": "python3"
  },
  "language_info": {
   "codemirror_mode": {
    "name": "ipython",
    "version": 3
   },
   "file_extension": ".py",
   "mimetype": "text/x-python",
   "name": "python",
   "nbconvert_exporter": "python",
   "pygments_lexer": "ipython3",
   "version": "3.7.4"
  },
  "toc": {
   "base_numbering": 1,
   "nav_menu": {},
   "number_sections": true,
   "sideBar": false,
   "skip_h1_title": true,
   "title_cell": "Table of Contents",
   "title_sidebar": "Contents",
   "toc_cell": true,
   "toc_position": {},
   "toc_section_display": true,
   "toc_window_display": false
  }
 },
 "nbformat": 4,
 "nbformat_minor": 2
}
