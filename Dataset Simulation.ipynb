{
 "cells": [
  {
   "cell_type": "markdown",
   "metadata": {},
   "source": [
    "Data set idea: weight loss\n",
    "\n",
    "Variables:\n",
    "- day - daily time series\n",
    "\n",
    "- weight \n",
    "    - estimated by calories in / calories out based on 3500cal as 450g lost (https://www.mayoclinic.org/healthy-lifestyle/weight-loss/in-depth/calories/art-20048065) so every 1 calorie = 0.128205128g\n",
    "    - Weight loss will be calculated each day. (calories out - calories in) * 0.0128205128 +/- random noise as weight loss is not exact\n",
    "\n",
    "\n",
    "- calories in based on logging food with LoseIt \n",
    "    - split by carbs/protein/fat? put into separate variables by percent?\n",
    "    - Not going to split by c/p/f in dataset but will just state calorie count assuming she maintains good ratios \n",
    "    \n",
    "    \n",
    "- calories out - based on BMR/TDEE and exercise\n",
    "- target calorie amount - same number throughout\n",
    "- over/under calorie target\n",
    "- exercise \n",
    "    - boolean?  True/False whether I exercised or not\n",
    "    - categorical? Listing different exercises (walk, run, yoga class, weight training)\n",
    "    - estimated calories burned?\n",
    " - calories out - tdee + exercise \n",
    "     - function created to calculate tdee as it fluctuates each day\n",
    "     - maybe +/- random amount to exercise so it's not so samey\n",
    "    \n",
    "Run weekly - 52 weeks per year over 2 years = 104 rows\n",
    "or \n",
    "Daily - January-April 2019 inclusive = 119 rows\n",
    "Can't figure out which would be better"
   ]
  },
  {
   "cell_type": "markdown",
   "metadata": {
    "toc": true
   },
   "source": [
    "<h1>Table of Contents<span class=\"tocSkip\"></span></h1>\n",
    "<div class=\"toc\"><ul class=\"toc-item\"><li><span><a href=\"#Time\" data-toc-modified-id=\"Time-1\"><span class=\"toc-item-num\">1&nbsp;&nbsp;</span>Time</a></span></li><li><span><a href=\"#Calories\" data-toc-modified-id=\"Calories-2\"><span class=\"toc-item-num\">2&nbsp;&nbsp;</span>Calories</a></span></li><li><span><a href=\"#Weight-Loss\" data-toc-modified-id=\"Weight-Loss-3\"><span class=\"toc-item-num\">3&nbsp;&nbsp;</span>Weight Loss</a></span></li><li><span><a href=\"#Exercise\" data-toc-modified-id=\"Exercise-4\"><span class=\"toc-item-num\">4&nbsp;&nbsp;</span>Exercise</a></span></li><li><span><a href=\"#Calories\" data-toc-modified-id=\"Calories-5\"><span class=\"toc-item-num\">5&nbsp;&nbsp;</span>Calories</a></span></li></ul></div>"
   ]
  },
  {
   "cell_type": "markdown",
   "metadata": {},
   "source": [
    "This project simulates a dataset created by a woman who decided to track her weight loss efforts over the course of a year. She set a daily calorie goal and committed to exercising for one hour approximately five days per week. She did a lot of research before beginning her journey to set herself up for success and was very fastidious in logging her calorie intake and estimated calorie output. \n",
    "\n"
   ]
  },
  {
   "cell_type": "code",
   "execution_count": 4,
   "metadata": {},
   "outputs": [],
   "source": [
    "import numpy as np\n",
    "import pandas as pd\n",
    "import scipy.stats as stats"
   ]
  },
  {
   "cell_type": "markdown",
   "metadata": {},
   "source": [
    "## Time\n",
    "\n",
    "There is a lot of conflicting information online about how often one should weigh themselves when trying to lose weight. Some believe that weighing in too frequently can cause anxiety (https://health.clevelandclinic.org/why-you-shouldnt-weigh-yourself-every-single-day/) or discouragement (https://www.medicinenet.com/to_weigh__or_not_to_weighthat_is_the_question/views.htm) as weight fluctuations in the short-term can be quite unpredictable due to factors such as hydration or what was last eaten. However, some studies have shown that higher weighing frequency is associated with greater weight loss, (https://link.springer.com/article/10.1207/s15324796abm3003_5) less weight regain, (https://link.springer.com/article/10.1186/1479-5868-5-54) and is not associated with adverse psychological outcomes like anxiety (https://onlinelibrary.wiley.com/doi/full/10.1002/oby.20946). It really comes down to personal preference and what an individual feels works well for them. (https://blog.myfitnesspal.com/how-often-should-you-weigh-yourself/)\n",
    "\n",
    "Our subject is interested in collecting as much data as possible to track her weight loss efforts and so decides to weigh herself first thing in the morning every day as she finds the consistent feedback helps her to make small changes to her daily behaviour, such as eating less or exercising more. (https://www.consumerreports.org/scales/the-best-time-to-weigh-yourself/). To account for daily fluctuations, weight loss or gain will not only depend on calories in/out but will also include a random variant. \n"
   ]
  },
  {
   "cell_type": "code",
   "execution_count": 5,
   "metadata": {},
   "outputs": [
    {
     "data": {
      "text/plain": [
       "Index(['01/01/2019', '02/01/2019', '03/01/2019', '04/01/2019', '05/01/2019',\n",
       "       '06/01/2019', '07/01/2019', '08/01/2019', '09/01/2019', '10/01/2019',\n",
       "       ...\n",
       "       '22/12/2019', '23/12/2019', '24/12/2019', '25/12/2019', '26/12/2019',\n",
       "       '27/12/2019', '28/12/2019', '29/12/2019', '30/12/2019', '31/12/2019'],\n",
       "      dtype='object', length=365)"
      ]
     },
     "execution_count": 5,
     "metadata": {},
     "output_type": "execute_result"
    }
   ],
   "source": [
    "date = pd.date_range('2019-01-01', periods=365, freq='D')\n",
    "\n",
    "# Change date format https://stackoverflow.com/a/38812486 but this returns an array of stings, not datetimes.\n",
    "date.strftime('%d/%m/%Y')"
   ]
  },
  {
   "cell_type": "markdown",
   "metadata": {},
   "source": [
    "## Calories\n",
    "\n",
    "Weight loss is very complex and depends on many factors such as: (https://www.niddk.nih.gov/health-information/weight-management/adult-overweight-obesity/factors-affecting-weight-health)\n",
    "\n",
    "- Genetics\n",
    "- Race\n",
    "- Sex\n",
    "- Age\n",
    "- Diet\n",
    "- Physical activity\n",
    "- Environment\n",
    "- Medical issues\n",
    "\n",
    "The person in this case is a 30 year old white Irish woman who lives in the suburbs and works at a sedentary office job. She has a moderately balanced diet but exercises very little and does not have any known medical issues that would hinder weight loss. She believes that she can begin to lose weight by making some slight lifestyle adjustments rather than any drastic changes in particular lessening her calorie intake and adding in a bit of exercise. \n",
    "\n",
    "The first thing she did was calculate how many calories she should consume per day in order to steadily lose weight. Two measurements were important here, her Basal Metabolic Rate (BMR) and Total Daily Energy Expenditure (TDEE). The BMR is the energy expenditure over a certain period of time by a person at rest (https://en.wikipedia.org/wiki/Basal_metabolic_rate). In other words, it is the number of calories burned by the body just by functioning normally without moving, such as breathing and circulating blood. It can be estimated based on a person's gender age, weight and height. The TDEE then is the number of calories a person should consume to maintain their current weight. There are many online calculators that help a person figure out their BMR - I have used a few different ones here see if different measurements are achieved:\n",
    "\n",
    "Measurements used: Female, 30 years old, starting weight 80k,  height 175cm:\n",
    "\n",
    "BMR\n",
    "- 1578: https://tdeecalculator.net/  \n",
    "- 1591: https://www.active.com/fitness/calculators/bmr \n",
    "- 1598: https://www.bodybuilding.com/fun/bmr_calculator.htm \n",
    "- 1578: https://www.calculator.net/bmr-calculator.html# \n",
    "- 1578: https://www.thecalculatorsite.com/health/bmr-calculator.php  (Mifflin St Jeor)\n",
    "- 1600: https://www.thecalculatorsite.com/health/bmr-calculator.php (Harris Benedict)\n",
    "\n",
    "TDEE: \n",
    "- https://tdeecalculator.net/ TDEE: 1894\n",
    "\n",
    "https://www.thecalculatorsite.com/health/bmr-calculator.php - has good explanation of equations\n",
    "\n",
    "\n",
    "Of course, not all calories are created equal. She could eat 1500 calories worth of junk food and still lose weight but this, of course would not be healthy. She aims each day to split her calorie allowance as follows: (https://www.healthline.com/nutrition/best-macronutrient-ratio#calorie-vs-calorie)\n",
    "\n",
    "    - 45-65% carbohydrates\n",
    "    - 20-35% fats\n",
    "    - 10-35% proteins \n",
    "    \n",
    "In this dataset the focus is on calories in and out but our subject is generally quite good at sticking to the above ratios. "
   ]
  },
  {
   "cell_type": "markdown",
   "metadata": {},
   "source": [
    "For exercise, look into how different exercises affect weight loss - a combination of cardio, strength training and flexibility training: https://www.verywellfit.com/types-of-exercise-for-weight-loss-3495992"
   ]
  },
  {
   "cell_type": "markdown",
   "metadata": {},
   "source": [
    "With calories I might split by protein, ft and carbs - "
   ]
  },
  {
   "cell_type": "markdown",
   "metadata": {},
   "source": [
    "## Weight Loss\n",
    "\n",
    "Could I do some kind of probability distribution that makes total weight go up/down?\n",
    "\n",
    "Or have one column with weight lost daily/weekly and then add/subtrct that to total weight in another column?\n",
    "\n",
    "Weight lost every week: Say I lose an average of 0.5kg per week with a standard deviation of 0.25 and over a normal distribution.\n",
    "\n",
    "Or with daily say it's 0.1kg per day average with a sd of 0.05g\n",
    "\n",
    "No! I should base the weight loss on the other variables - exercise and calories - with a random amount added or subtracted as weight loss is not exact (is this noise?)"
   ]
  },
  {
   "cell_type": "code",
   "execution_count": 6,
   "metadata": {},
   "outputs": [
    {
     "data": {
      "text/plain": [
       "array([-0.10128896,  0.59859516,  0.83453655,  0.52417011,  0.90521216,\n",
       "        0.17909929,  0.64065219,  0.67986204,  0.12919643,  0.54468193,\n",
       "        0.04929854,  0.26288368,  0.70977865,  0.65934148,  0.77326663,\n",
       "        0.98388015,  0.67861682,  0.65557882,  0.36871091,  0.29111023,\n",
       "        0.47680638,  0.42943281,  0.28922813,  0.76566839,  0.80250755,\n",
       "        0.56005012,  0.57627409,  0.30161603,  0.60181938,  0.73819154,\n",
       "        0.39303286,  0.28391161,  0.56937901,  0.39984985,  0.36841257,\n",
       "        0.73038686,  0.17601089,  0.65979876,  0.50534172,  0.42181386,\n",
       "        0.54017989,  0.47073429, -0.18720155,  0.47870924,  0.74946424,\n",
       "        1.26925099,  0.09131415,  0.4930655 ,  0.63422509,  0.03884794,\n",
       "        0.65817781,  0.81162236,  0.51286975,  0.47027433,  0.63641963,\n",
       "        0.5093713 ,  0.44008204,  0.74652684, -0.02109036,  1.01067999,\n",
       "        0.20676375,  0.76891219,  0.26973246,  0.35742557,  0.19319107,\n",
       "        0.20013155,  0.21820184,  0.64125994,  0.89327894,  0.5672656 ,\n",
       "        1.14235553,  0.51830187,  0.60251275,  0.49241042,  0.8286443 ,\n",
       "        0.52909947,  0.31650184,  0.5730893 ,  0.26033907,  0.23067713,\n",
       "        0.44888288,  0.57694678,  0.79860868,  0.19749161,  0.70754746,\n",
       "        0.54819873,  0.63382095,  0.97630819,  0.38517505,  0.13814536,\n",
       "        0.26655099,  0.33566305,  0.60164203,  0.95025989,  0.27117174,\n",
       "        0.32882639,  0.48200684,  0.71796073,  0.50883348,  0.41930664,\n",
       "        0.69089272,  0.21615883,  0.11955578,  0.73772719])"
      ]
     },
     "execution_count": 6,
     "metadata": {},
     "output_type": "execute_result"
    }
   ],
   "source": [
    "# Weight lost weekly. 104 rows \n",
    "\n",
    "np.random.normal(0.5, 0.25, 104)"
   ]
  },
  {
   "cell_type": "code",
   "execution_count": 7,
   "metadata": {},
   "outputs": [
    {
     "data": {
      "text/plain": [
       "array([ 0.17009429,  0.12419533,  0.11687747,  0.0332451 ,  0.05975039,\n",
       "        0.19256842,  0.05095925,  0.05249426,  0.20078888,  0.0195992 ,\n",
       "        0.11574546,  0.02812335,  0.09149349,  0.09946356,  0.07882445,\n",
       "        0.12333616, -0.01468244,  0.09246127,  0.14888417,  0.05030381,\n",
       "        0.08613459,  0.11043554,  0.0559676 ,  0.06190047,  0.06732921,\n",
       "        0.20052231,  0.11710208,  0.11764535,  0.04182197, -0.01547591,\n",
       "        0.11157168,  0.0962505 ,  0.08341353, -0.02110922,  0.13113321,\n",
       "        0.10600675,  0.02118836,  0.05574964,  0.17745835,  0.08031079,\n",
       "        0.09741127,  0.14663292,  0.09670708,  0.07757539,  0.14597488,\n",
       "        0.1046649 ,  0.16051692, -0.02089606,  0.09356032,  0.06256797,\n",
       "        0.04162591,  0.09938776,  0.0899836 ,  0.11554362,  0.15400297,\n",
       "        0.16937583,  0.06974057, -0.01189572,  0.12651115,  0.10104465,\n",
       "        0.13537012,  0.11858174,  0.11070824,  0.21913867,  0.01669556,\n",
       "        0.06748702,  0.04096386,  0.10039162,  0.12973078,  0.09290643,\n",
       "        0.14927667,  0.07757385,  0.06624131,  0.04662195,  0.11150208,\n",
       "        0.01966398,  0.09596842,  0.17627135,  0.05924865,  0.08165939,\n",
       "       -0.01477306,  0.1716384 ,  0.08827608,  0.12763916,  0.02603055,\n",
       "        0.14444195,  0.09420448,  0.10295495,  0.08073501,  0.08906063,\n",
       "        0.06579887,  0.11733688,  0.06330695,  0.08565835,  0.18865507,\n",
       "        0.13946802,  0.14616755,  0.15387875,  0.04024021,  0.11056568,\n",
       "        0.19204313,  0.09597119,  0.11789361,  0.00034241,  0.04711026,\n",
       "        0.17287576,  0.08052408,  0.16568882,  0.11394495,  0.07330489,\n",
       "        0.11581161,  0.00340711,  0.13630264,  0.11541181,  0.16988776,\n",
       "        0.07489099,  0.04524136,  0.19559067,  0.09953996])"
      ]
     },
     "execution_count": 7,
     "metadata": {},
     "output_type": "execute_result"
    }
   ],
   "source": [
    "# Weight lost daily. 119 rows\n",
    "np.random.normal(0.1, 0.05, 119)"
   ]
  },
  {
   "cell_type": "markdown",
   "metadata": {},
   "source": [
    "## Exercise\n",
    "\n",
    "This makes a case for doing a daily dataset - can't figure out how to do this weekly\n",
    "\n",
    "Either use randint or random choice\n",
    "\n",
    "With randint - assign exercises to different integers\n",
    "\n",
    "None = 1\n",
    "Walk = 2\n",
    "Jog = 3\n",
    "Yoga = 4\n",
    "\n",
    "With random choice the options are (None, Walk, Jog, Yoga)\n",
    "\n",
    "Use choice as you can set probability for each option.\n",
    "\n",
    "Jan-Apr = 119 days = 17 weeks\n",
    "\n",
    "Say I do some form of exercise about 5 days per week: None = 2 * 17 = 34 days of no exercise = ~28% (make it 29 for 100% probability altogether)\n",
    "\n",
    "I walk 3 days per week: Walk = 3 * 104 = 51 walks = ~43%\n",
    "\n",
    "I jog 1 day per week = 17 jogs = ~14%\n",
    "\n",
    "I have a yoga class about 1 day per week = 17 yoga classes = ~14%\n",
    "\n",
    "\n",
    "OR!\n",
    "\n",
    "I could still do the weekly thing if I change the size so it gives an array!\n",
    "\n",
    "\n",
    "Exercise not the most important thing for weight loss: https://www.vox.com/2016/4/28/11518804/weight-loss-exercise-myth-burn-calories\n",
    "\n",
    "Exercise and calories burned: https://www.sciencealert.com/how-to-calculate-calories-burned-met-value-exercise?perpetual=yes&limitstart=1"
   ]
  },
  {
   "cell_type": "code",
   "execution_count": 8,
   "metadata": {},
   "outputs": [
    {
     "data": {
      "text/plain": [
       "array([['none', 'walk', 'none', 'walk', 'none', 'walk', 'yoga'],\n",
       "       ['none', 'yoga', 'yoga', 'none', 'jog', 'none', 'none'],\n",
       "       ['none', 'walk', 'yoga', 'walk', 'walk', 'none', 'yoga'],\n",
       "       ['walk', 'none', 'jog', 'none', 'none', 'walk', 'walk'],\n",
       "       ['walk', 'jog', 'none', 'yoga', 'jog', 'none', 'walk'],\n",
       "       ['jog', 'none', 'walk', 'walk', 'none', 'none', 'yoga'],\n",
       "       ['walk', 'none', 'none', 'walk', 'walk', 'yoga', 'none'],\n",
       "       ['none', 'walk', 'yoga', 'none', 'none', 'walk', 'walk'],\n",
       "       ['none', 'none', 'yoga', 'walk', 'none', 'jog', 'walk'],\n",
       "       ['walk', 'walk', 'none', 'yoga', 'walk', 'walk', 'none'],\n",
       "       ['jog', 'walk', 'none', 'walk', 'jog', 'none', 'none'],\n",
       "       ['jog', 'walk', 'none', 'walk', 'walk', 'walk', 'none'],\n",
       "       ['walk', 'none', 'yoga', 'none', 'none', 'none', 'walk'],\n",
       "       ['none', 'yoga', 'yoga', 'walk', 'walk', 'walk', 'walk'],\n",
       "       ['walk', 'yoga', 'walk', 'yoga', 'jog', 'walk', 'yoga'],\n",
       "       ['jog', 'jog', 'walk', 'none', 'none', 'walk', 'walk'],\n",
       "       ['yoga', 'walk', 'walk', 'walk', 'walk', 'yoga', 'none'],\n",
       "       ['jog', 'none', 'walk', 'yoga', 'walk', 'yoga', 'none'],\n",
       "       ['walk', 'yoga', 'none', 'walk', 'jog', 'none', 'walk'],\n",
       "       ['walk', 'none', 'yoga', 'none', 'jog', 'yoga', 'yoga'],\n",
       "       ['none', 'yoga', 'yoga', 'walk', 'walk', 'walk', 'walk'],\n",
       "       ['none', 'jog', 'walk', 'none', 'walk', 'yoga', 'none'],\n",
       "       ['yoga', 'jog', 'walk', 'walk', 'walk', 'walk', 'none'],\n",
       "       ['walk', 'yoga', 'walk', 'yoga', 'yoga', 'none', 'none'],\n",
       "       ['walk', 'yoga', 'none', 'jog', 'jog', 'jog', 'walk'],\n",
       "       ['yoga', 'none', 'walk', 'yoga', 'none', 'walk', 'jog'],\n",
       "       ['yoga', 'walk', 'jog', 'walk', 'jog', 'walk', 'jog'],\n",
       "       ['jog', 'jog', 'jog', 'walk', 'walk', 'walk', 'walk'],\n",
       "       ['yoga', 'jog', 'yoga', 'jog', 'none', 'yoga', 'none'],\n",
       "       ['none', 'walk', 'walk', 'none', 'jog', 'jog', 'none'],\n",
       "       ['none', 'none', 'walk', 'none', 'none', 'walk', 'walk'],\n",
       "       ['walk', 'walk', 'walk', 'none', 'yoga', 'walk', 'walk'],\n",
       "       ['none', 'yoga', 'walk', 'walk', 'walk', 'none', 'jog'],\n",
       "       ['jog', 'walk', 'walk', 'yoga', 'none', 'yoga', 'walk'],\n",
       "       ['walk', 'none', 'none', 'yoga', 'none', 'walk', 'walk'],\n",
       "       ['none', 'none', 'walk', 'walk', 'walk', 'walk', 'none'],\n",
       "       ['none', 'walk', 'walk', 'none', 'none', 'walk', 'walk'],\n",
       "       ['yoga', 'walk', 'walk', 'walk', 'walk', 'none', 'jog'],\n",
       "       ['none', 'yoga', 'none', 'none', 'walk', 'walk', 'walk'],\n",
       "       ['walk', 'walk', 'jog', 'walk', 'none', 'walk', 'walk'],\n",
       "       ['none', 'jog', 'walk', 'walk', 'none', 'walk', 'none'],\n",
       "       ['jog', 'none', 'none', 'walk', 'none', 'walk', 'none'],\n",
       "       ['walk', 'none', 'walk', 'walk', 'none', 'walk', 'walk'],\n",
       "       ['none', 'walk', 'none', 'walk', 'walk', 'walk', 'walk'],\n",
       "       ['none', 'walk', 'none', 'none', 'none', 'walk', 'none'],\n",
       "       ['jog', 'yoga', 'yoga', 'none', 'none', 'none', 'none'],\n",
       "       ['walk', 'walk', 'walk', 'none', 'none', 'walk', 'none'],\n",
       "       ['none', 'walk', 'walk', 'walk', 'yoga', 'walk', 'walk'],\n",
       "       ['walk', 'walk', 'walk', 'none', 'none', 'yoga', 'walk'],\n",
       "       ['yoga', 'none', 'jog', 'none', 'yoga', 'none', 'walk'],\n",
       "       ['walk', 'jog', 'yoga', 'none', 'jog', 'walk', 'walk'],\n",
       "       ['walk', 'yoga', 'none', 'yoga', 'jog', 'jog', 'jog'],\n",
       "       ['none', 'jog', 'yoga', 'walk', 'none', 'walk', 'none'],\n",
       "       ['none', 'jog', 'jog', 'none', 'jog', 'walk', 'walk'],\n",
       "       ['yoga', 'jog', 'walk', 'jog', 'none', 'walk', 'jog'],\n",
       "       ['yoga', 'walk', 'walk', 'walk', 'none', 'jog', 'walk'],\n",
       "       ['walk', 'jog', 'walk', 'none', 'none', 'walk', 'walk'],\n",
       "       ['walk', 'none', 'walk', 'walk', 'walk', 'none', 'walk'],\n",
       "       ['walk', 'walk', 'walk', 'none', 'yoga', 'none', 'walk'],\n",
       "       ['none', 'yoga', 'none', 'walk', 'walk', 'yoga', 'jog'],\n",
       "       ['walk', 'walk', 'none', 'jog', 'none', 'none', 'jog'],\n",
       "       ['none', 'jog', 'walk', 'walk', 'none', 'yoga', 'none'],\n",
       "       ['walk', 'none', 'walk', 'none', 'walk', 'yoga', 'walk'],\n",
       "       ['none', 'walk', 'jog', 'jog', 'jog', 'walk', 'jog'],\n",
       "       ['walk', 'walk', 'walk', 'jog', 'walk', 'none', 'walk'],\n",
       "       ['walk', 'jog', 'walk', 'yoga', 'none', 'yoga', 'walk'],\n",
       "       ['none', 'walk', 'yoga', 'none', 'none', 'walk', 'none'],\n",
       "       ['none', 'none', 'jog', 'jog', 'walk', 'walk', 'none'],\n",
       "       ['none', 'walk', 'walk', 'yoga', 'jog', 'none', 'walk'],\n",
       "       ['walk', 'walk', 'jog', 'jog', 'none', 'none', 'walk'],\n",
       "       ['walk', 'none', 'walk', 'walk', 'walk', 'jog', 'none'],\n",
       "       ['walk', 'none', 'walk', 'jog', 'walk', 'walk', 'jog'],\n",
       "       ['walk', 'jog', 'walk', 'jog', 'walk', 'yoga', 'none'],\n",
       "       ['none', 'walk', 'walk', 'walk', 'walk', 'jog', 'none'],\n",
       "       ['jog', 'walk', 'jog', 'none', 'yoga', 'walk', 'walk'],\n",
       "       ['jog', 'none', 'none', 'walk', 'walk', 'walk', 'walk'],\n",
       "       ['none', 'none', 'walk', 'none', 'jog', 'walk', 'none'],\n",
       "       ['yoga', 'none', 'walk', 'none', 'walk', 'jog', 'none'],\n",
       "       ['walk', 'walk', 'walk', 'none', 'walk', 'walk', 'walk'],\n",
       "       ['walk', 'none', 'walk', 'walk', 'walk', 'walk', 'none'],\n",
       "       ['none', 'none', 'none', 'walk', 'jog', 'walk', 'none'],\n",
       "       ['jog', 'walk', 'walk', 'walk', 'jog', 'yoga', 'yoga'],\n",
       "       ['walk', 'jog', 'walk', 'none', 'yoga', 'walk', 'none'],\n",
       "       ['none', 'none', 'walk', 'walk', 'jog', 'walk', 'walk'],\n",
       "       ['yoga', 'walk', 'yoga', 'walk', 'walk', 'jog', 'yoga'],\n",
       "       ['walk', 'jog', 'none', 'none', 'walk', 'none', 'none'],\n",
       "       ['none', 'yoga', 'none', 'walk', 'walk', 'walk', 'walk'],\n",
       "       ['walk', 'none', 'walk', 'jog', 'walk', 'none', 'none'],\n",
       "       ['jog', 'yoga', 'walk', 'walk', 'walk', 'walk', 'walk'],\n",
       "       ['yoga', 'yoga', 'yoga', 'none', 'none', 'none', 'walk'],\n",
       "       ['jog', 'yoga', 'none', 'walk', 'jog', 'walk', 'yoga'],\n",
       "       ['none', 'none', 'yoga', 'walk', 'walk', 'none', 'none'],\n",
       "       ['none', 'none', 'walk', 'none', 'jog', 'walk', 'jog'],\n",
       "       ['walk', 'walk', 'walk', 'none', 'walk', 'none', 'walk'],\n",
       "       ['walk', 'none', 'walk', 'none', 'jog', 'walk', 'walk'],\n",
       "       ['walk', 'none', 'yoga', 'walk', 'yoga', 'walk', 'walk'],\n",
       "       ['yoga', 'walk', 'jog', 'walk', 'walk', 'yoga', 'none'],\n",
       "       ['walk', 'none', 'walk', 'walk', 'jog', 'yoga', 'none'],\n",
       "       ['walk', 'jog', 'none', 'yoga', 'none', 'none', 'walk'],\n",
       "       ['none', 'none', 'walk', 'none', 'none', 'jog', 'walk'],\n",
       "       ['jog', 'walk', 'walk', 'yoga', 'walk', 'yoga', 'jog'],\n",
       "       ['none', 'walk', 'walk', 'walk', 'walk', 'walk', 'none'],\n",
       "       ['walk', 'walk', 'walk', 'jog', 'none', 'jog', 'none'],\n",
       "       ['jog', 'none', 'yoga', 'yoga', 'none', 'none', 'yoga'],\n",
       "       ['walk', 'none', 'none', 'walk', 'none', 'walk', 'walk'],\n",
       "       ['walk', 'jog', 'yoga', 'walk', 'jog', 'jog', 'jog'],\n",
       "       ['walk', 'none', 'none', 'walk', 'walk', 'walk', 'none'],\n",
       "       ['yoga', 'walk', 'none', 'walk', 'none', 'none', 'walk'],\n",
       "       ['none', 'yoga', 'walk', 'walk', 'none', 'walk', 'none'],\n",
       "       ['jog', 'jog', 'walk', 'none', 'walk', 'walk', 'none'],\n",
       "       ['walk', 'walk', 'walk', 'walk', 'jog', 'none', 'walk'],\n",
       "       ['none', 'walk', 'jog', 'none', 'none', 'walk', 'none'],\n",
       "       ['walk', 'none', 'walk', 'jog', 'jog', 'walk', 'none'],\n",
       "       ['none', 'walk', 'jog', 'jog', 'walk', 'none', 'walk'],\n",
       "       ['walk', 'yoga', 'none', 'walk', 'none', 'walk', 'none'],\n",
       "       ['walk', 'none', 'walk', 'jog', 'walk', 'walk', 'walk'],\n",
       "       ['none', 'yoga', 'yoga', 'yoga', 'none', 'walk', 'none'],\n",
       "       ['walk', 'none', 'none', 'yoga', 'walk', 'walk', 'walk'],\n",
       "       ['jog', 'walk', 'walk', 'walk', 'none', 'none', 'jog']],\n",
       "      dtype='<U4')"
      ]
     },
     "execution_count": 8,
     "metadata": {},
     "output_type": "execute_result"
    }
   ],
   "source": [
    "excercises = [\"none\", \"walk\", \"jog\", \"yoga\"]\n",
    "\n",
    "np.random.choice(excercises, size = (119, 7), p=[0.29, 0.43, 0.14, 0.14])"
   ]
  },
  {
   "cell_type": "markdown",
   "metadata": {},
   "source": [
    "## Calories\n",
    "\n",
    "Want to aim for 1500 calories per day \n",
    "\n",
    "Normal distribution again?\n",
    "\n",
    "Below shows normal and randint\n",
    "\n",
    "Maybe a truncated normal distribution as I should never go below 1200 calories but have some days where I'd eat over 2000\n",
    "\n",
    "\n",
    "Study about outdated 3500cal = 1lb idea: https://www.ncbi.nlm.nih.gov/pmc/articles/PMC4035446/"
   ]
  },
  {
   "cell_type": "code",
   "execution_count": 9,
   "metadata": {},
   "outputs": [
    {
     "data": {
      "text/plain": [
       "array([1782.66756138, 1632.17159753,  881.33846093, 1574.3880839 ,\n",
       "       1565.41243158, 1513.40507798, 1341.61827943, 1131.97062001,\n",
       "       1153.7571124 , 1768.99906335, 2120.8069394 , 1334.10840618,\n",
       "       1615.58284116, 1636.35478733, 1581.43735883, 1676.40038511,\n",
       "       1539.22302513, 1638.03947817, 1499.31092248, 1786.32455995,\n",
       "       1659.90320088, 1498.42087634, 1853.24219088, 1530.70346831,\n",
       "       1270.61337351, 1599.62513411, 1590.67545671, 1885.41131519,\n",
       "       1802.43263553, 1380.40876673, 1304.69791256, 1754.46040307,\n",
       "       1366.85686417, 1496.12612365, 1332.66844324, 1805.00456226,\n",
       "       1438.01583603, 1498.04413668, 1278.47911591,  972.94523459,\n",
       "       1452.81194437, 1468.05585793, 1901.25186276, 1977.03504552,\n",
       "       1825.50610549, 1736.97300188, 1285.36572576, 1945.17479012,\n",
       "       1523.81899998, 1244.00730512, 1444.50819042, 1387.90388394,\n",
       "       1591.84461045, 1501.99187905, 2106.24299507, 1536.10705895,\n",
       "       1581.49943254, 1298.23958084, 1459.96108529, 1862.14351021,\n",
       "       2079.12230846, 1331.07982802, 1571.59016826, 1115.97413713,\n",
       "       1162.86243321, 1313.71947377, 1647.08876982, 1347.1382908 ,\n",
       "       1026.2414674 , 1233.24881413, 1518.88889146, 1243.76918267,\n",
       "       1422.01111146, 1431.57608137, 1349.25414139, 1774.9670388 ,\n",
       "       1945.09323007, 1747.5353493 , 1142.48661909, 1679.58757405,\n",
       "       1453.41459535, 1077.16615197, 1670.41063905, 1383.42347606,\n",
       "       1631.18948007, 1849.09305128, 2009.63548692, 1307.82705963,\n",
       "       1716.3243345 , 1488.38238616, 1201.20364486, 1650.29977183,\n",
       "       1598.61361039, 1618.67738723, 1822.89258605, 1208.86598299,\n",
       "       1444.2815641 , 1749.9161974 , 1567.35475855, 1389.73306656,\n",
       "       1720.50487626, 1547.09451482, 1042.51049828, 1641.01853148,\n",
       "       1771.18829549, 1738.0700474 , 1764.93467268, 1621.53774873,\n",
       "       1972.01023026, 1833.93870145, 1413.06934461, 1135.02784693,\n",
       "       1499.08069323, 1581.47682086, 1227.42791947, 1326.37611071,\n",
       "       1339.4904221 , 1512.74030572, 2085.13672561])"
      ]
     },
     "execution_count": 9,
     "metadata": {},
     "output_type": "execute_result"
    }
   ],
   "source": [
    "np.random.normal(1500, 250, 119)"
   ]
  },
  {
   "cell_type": "code",
   "execution_count": 10,
   "metadata": {},
   "outputs": [
    {
     "data": {
      "text/plain": [
       "array([1314, 1726, 1660, 1440, 1655, 1282, 1501, 1329, 1657, 1645, 1293,\n",
       "       1394, 1446, 1652, 1621, 1314, 1507, 1217, 1262, 1544, 1506, 1293,\n",
       "       1593, 1702, 1739, 1747, 1510, 1565, 1530, 1441, 1744, 1311, 1203,\n",
       "       1578, 1312, 1213, 1721, 1300, 1585, 1777, 1359, 1424, 1561, 1612,\n",
       "       1328, 1787, 1364, 1304, 1676, 1649, 1508, 1621, 1481, 1337, 1203,\n",
       "       1522, 1243, 1660, 1618, 1604, 1641, 1779, 1688, 1707, 1365, 1538,\n",
       "       1758, 1671, 1789, 1411, 1687, 1752, 1250, 1551, 1691, 1444, 1709,\n",
       "       1762, 1465, 1208, 1364, 1285, 1638, 1638, 1476, 1568, 1485, 1446,\n",
       "       1324, 1535, 1207, 1581, 1273, 1456, 1474, 1657, 1566, 1635, 1764,\n",
       "       1289, 1412, 1534, 1432, 1244, 1246, 1305, 1668, 1555, 1485, 1695,\n",
       "       1655, 1643, 1752, 1440, 1232, 1530, 1323, 1779, 1250])"
      ]
     },
     "execution_count": 10,
     "metadata": {},
     "output_type": "execute_result"
    }
   ],
   "source": [
    "# or radint for neater values\n",
    "np.random.randint(1200, 1800, 119)"
   ]
  },
  {
   "cell_type": "code",
   "execution_count": 11,
   "metadata": {},
   "outputs": [
    {
     "data": {
      "text/plain": [
       "array([inf, inf, inf, inf, inf, inf, inf, inf, inf, inf, inf, inf, inf,\n",
       "       inf, inf, inf, inf, inf, inf, inf, inf, inf, inf, inf, inf, inf,\n",
       "       inf, inf, inf, inf, inf, inf, inf, inf, inf, inf, inf, inf, inf,\n",
       "       inf, inf, inf, inf, inf, inf, inf, inf, inf, inf, inf, inf, inf,\n",
       "       inf, inf, inf, inf, inf, inf, inf, inf, inf, inf, inf, inf, inf,\n",
       "       inf, inf, inf, inf, inf, inf, inf, inf, inf, inf, inf, inf, inf,\n",
       "       inf, inf, inf, inf, inf, inf, inf, inf, inf, inf, inf, inf, inf,\n",
       "       inf, inf, inf, inf, inf, inf, inf, inf, inf, inf, inf, inf, inf,\n",
       "       inf, inf, inf, inf, inf, inf, inf, inf, inf, inf, inf, inf, inf,\n",
       "       inf, inf])"
      ]
     },
     "execution_count": 11,
     "metadata": {},
     "output_type": "execute_result"
    }
   ],
   "source": [
    "# https://stackoverflow.com/a/18444710\n",
    "#low = 1200\n",
    "#high = 2500\n",
    "#mu = 1500\n",
    "#sigma = 250\n",
    "\n",
    "#x = stats.truncnorm((low - mu)/sigma, (high - mu)/sigma, loc=mu, scale=sigma, size=119)\n",
    "#x\n",
    "\n",
    "\n",
    "# https://docs.scipy.org/doc/scipy-0.15.1/reference/generated/scipy.stats.truncnorm.html\n",
    "# Figure it out!\n",
    "stats.truncnorm.rvs(1200, 2500, size = 119)"
   ]
  },
  {
   "cell_type": "markdown",
   "metadata": {},
   "source": [
    "Since BMR and TDEE are both going to change as weight fluctuates, I have created the function below to recalculate them each day as part of the calories burned. I have used the Mifflin-St Jeor calculation as it is widely used and deemed to be quite accurate"
   ]
  },
  {
   "cell_type": "code",
   "execution_count": 12,
   "metadata": {},
   "outputs": [
    {
     "data": {
      "text/plain": [
       "1899.3"
      ]
     },
     "execution_count": 12,
     "metadata": {},
     "output_type": "execute_result"
    }
   ],
   "source": [
    "# TDEE function\n",
    "# only weight will change in this calculation\n",
    "\n",
    "def tdee(weight):\n",
    "    bmr = 10 * weight + 6.25 * 175 - 5 * 30 -161\n",
    "    result = bmr * 1.2\n",
    "    return result\n",
    "\n",
    "tdee(80)"
   ]
  },
  {
   "cell_type": "markdown",
   "metadata": {},
   "source": [
    "Below is a function that tracks the estimated calories burned by exercising. Our subject exercises most days per week and averages at about 45 minutes per session, sometimes more, sometimes less. She uses her fitbit to calculate the amount of calories burned for each exercise session and logs that into her spreadsheet. "
   ]
  },
  {
   "cell_type": "code",
   "execution_count": 13,
   "metadata": {
    "scrolled": true
   },
   "outputs": [
    {
     "data": {
      "text/plain": [
       "297.6445484663469"
      ]
     },
     "execution_count": 13,
     "metadata": {},
     "output_type": "execute_result"
    }
   ],
   "source": [
    "# https://stackoverflow.com/questions/26886653/pandas-create-new-column-based-on-values-from-other-columns-apply-a-function-o\n",
    "\n",
    "def exercise(activity):\n",
    "    if activity == 'yoga':\n",
    "        return np.random.normal(150, 50)\n",
    "    elif activity == 'walking':\n",
    "        return np.random.normal(250, 50)\n",
    "    elif activity == 'jogging':\n",
    "        return np.random.normal(300, 50)\n",
    "    else:\n",
    "        return 0\n",
    "    \n",
    "exercise('jogging')"
   ]
  },
  {
   "cell_type": "code",
   "execution_count": 14,
   "metadata": {},
   "outputs": [
    {
     "data": {
      "text/plain": [
       "448.717948"
      ]
     },
     "execution_count": 14,
     "metadata": {},
     "output_type": "execute_result"
    }
   ],
   "source": [
    "def cal_to_gram(calories):\n",
    "    gram = calories * 0.128205128\n",
    "    return gram\n",
    "cal_to_gram(3500)"
   ]
  },
  {
   "cell_type": "code",
   "execution_count": null,
   "metadata": {},
   "outputs": [],
   "source": []
  }
 ],
 "metadata": {
  "kernelspec": {
   "display_name": "Python 3",
   "language": "python",
   "name": "python3"
  },
  "toc": {
   "base_numbering": 1,
   "nav_menu": {},
   "number_sections": true,
   "sideBar": false,
   "skip_h1_title": true,
   "title_cell": "Table of Contents",
   "title_sidebar": "Contents",
   "toc_cell": true,
   "toc_position": {},
   "toc_section_display": true,
   "toc_window_display": false
  }
 },
 "nbformat": 4,
 "nbformat_minor": 2
}
