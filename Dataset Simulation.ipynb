{
 "cells": [
  {
   "cell_type": "markdown",
   "metadata": {},
   "source": [
    "Data set idea: weight loss\n",
    "\n",
    "Variables:\n",
    "- day - daily time series\n",
    "\n",
    "- weight \n",
    "    - estimated by calories in / calories out based on 3500cal as 450g lost (https://www.mayoclinic.org/healthy-lifestyle/weight-loss/in-depth/calories/art-20048065) so every 1 calorie = 0.128205128g\n",
    "    - Weight loss will be calculated each day. (calories out - calories in) * 0.0128205128 +/- random noise as weight loss is not exact\n",
    "\n",
    "\n",
    "- calories in based on logging food with LoseIt \n",
    "    - split by carbs/protein/fat? put into separate variables by percent?\n",
    "    - Not going to split by c/p/f in dataset but will just state calorie count assuming she maintains good ratios \n",
    "    \n",
    "    \n",
    "- calories out - based on BMR/TDEE and exercise\n",
    "- target calorie amount - same number throughout\n",
    "- over/under calorie target\n",
    "- exercise \n",
    "    - boolean?  True/False whether I exercised or not\n",
    "    - categorical? Listing different exercises (walk, run, yoga class, weight training)\n",
    "    - estimated calories burned?\n",
    " - calories out - tdee + exercise \n",
    "     - function created to calculate tdee as it fluctuates each day\n",
    "     - maybe +/- random amount to exercise so it's not so samey\n",
    "    \n",
    "Run weekly - 52 weeks per year over 2 years = 104 rows\n",
    "or \n",
    "Daily - January-April 2019 inclusive = 119 rows\n",
    "Can't figure out which would be better"
   ]
  },
  {
   "cell_type": "markdown",
   "metadata": {
    "toc": true
   },
   "source": [
    "<h1>Table of Contents<span class=\"tocSkip\"></span></h1>\n",
    "<div class=\"toc\"><ul class=\"toc-item\"><li><span><a href=\"#Time\" data-toc-modified-id=\"Time-1\"><span class=\"toc-item-num\">1&nbsp;&nbsp;</span>Time</a></span><ul class=\"toc-item\"><li><span><a href=\"#Code\" data-toc-modified-id=\"Code-1.1\"><span class=\"toc-item-num\">1.1&nbsp;&nbsp;</span>Code</a></span></li></ul></li><li><span><a href=\"#Calories\" data-toc-modified-id=\"Calories-2\"><span class=\"toc-item-num\">2&nbsp;&nbsp;</span>Calories</a></span></li><li><span><a href=\"#Calories-In\" data-toc-modified-id=\"Calories-In-3\"><span class=\"toc-item-num\">3&nbsp;&nbsp;</span>Calories In</a></span></li><li><span><a href=\"#Weight-Loss\" data-toc-modified-id=\"Weight-Loss-4\"><span class=\"toc-item-num\">4&nbsp;&nbsp;</span>Weight Loss</a></span></li><li><span><a href=\"#Exercise\" data-toc-modified-id=\"Exercise-5\"><span class=\"toc-item-num\">5&nbsp;&nbsp;</span>Exercise</a></span></li></ul></div>"
   ]
  },
  {
   "cell_type": "markdown",
   "metadata": {},
   "source": [
    "This project simulates a dataset created by a woman - let's call her Zoe - who decided to track her weight loss efforts over the course of a year. She set a daily calorie goal and committed to an average of 45 minutes of exercise approximately five days per week. She did a lot of research before beginning her journey to set herself up for success and was very fastidious in logging her calorie intake and estimated calorie output. \n",
    "\n"
   ]
  },
  {
   "cell_type": "code",
   "execution_count": 2,
   "metadata": {},
   "outputs": [],
   "source": [
    "import numpy as np\n",
    "import pandas as pd\n",
    "import scipy.stats as stats\n",
    "import seaborn as sns"
   ]
  },
  {
   "cell_type": "markdown",
   "metadata": {},
   "source": [
    "## Time\n",
    "\n",
    "There is a lot of conflicting information online about how often one should weigh themselves when trying to lose weight. Some believe that weighing in too frequently can cause anxiety (https://health.clevelandclinic.org/why-you-shouldnt-weigh-yourself-every-single-day/) or discouragement (https://www.medicinenet.com/to_weigh__or_not_to_weighthat_is_the_question/views.htm) as weight fluctuations in the short-term can be quite unpredictable due to factors such as hydration or what was last eaten. However, some studies have shown that higher weighing frequency is associated with greater weight loss, (https://link.springer.com/article/10.1207/s15324796abm3003_5) less weight regain, (https://link.springer.com/article/10.1186/1479-5868-5-54) and is not associated with adverse psychological outcomes like anxiety (https://onlinelibrary.wiley.com/doi/full/10.1002/oby.20946). It really comes down to personal preference and what an individual feels works well for them. (https://blog.myfitnesspal.com/how-often-should-you-weigh-yourself/)\n",
    "\n",
    "Zoe is interested in collecting as much data as possible to track her weight loss efforts and so decides to weigh herself first thing in the morning every day (https://www.consumerreports.org/scales/the-best-time-to-weigh-yourself/) as she finds the consistent feedback helps her to stay on track and keep herself accountable. \n",
    "\n",
    "### Code\n",
    "\n",
    "To simulate the \n"
   ]
  },
  {
   "cell_type": "code",
   "execution_count": 3,
   "metadata": {},
   "outputs": [
    {
     "data": {
      "text/plain": [
       "DatetimeIndex(['2019-01-01', '2019-01-02', '2019-01-03', '2019-01-04',\n",
       "               '2019-01-05', '2019-01-06', '2019-01-07', '2019-01-08',\n",
       "               '2019-01-09', '2019-01-10',\n",
       "               ...\n",
       "               '2019-12-22', '2019-12-23', '2019-12-24', '2019-12-25',\n",
       "               '2019-12-26', '2019-12-27', '2019-12-28', '2019-12-29',\n",
       "               '2019-12-30', '2019-12-31'],\n",
       "              dtype='datetime64[ns]', length=365, freq='D')"
      ]
     },
     "execution_count": 3,
     "metadata": {},
     "output_type": "execute_result"
    }
   ],
   "source": [
    "date = pd.date_range('2019-01-01', periods=365, freq='D')\n",
    "\n",
    "# Change date format https://stackoverflow.com/a/38812486 but this returns an array of stings, not datetimes.\n",
    "date.strftime('%d/%m/%Y')\n",
    "date"
   ]
  },
  {
   "cell_type": "markdown",
   "metadata": {},
   "source": [
    "## Calories \n",
    "\n",
    "Weight loss is very complex and depends on many factors such as: (https://www.niddk.nih.gov/health-information/weight-management/adult-overweight-obesity/factors-affecting-weight-health)\n",
    "\n",
    "- Genetics\n",
    "- Race\n",
    "- Sex\n",
    "- Age\n",
    "- Diet\n",
    "- Physical activity\n",
    "- Environment\n",
    "- Medical issues\n",
    "\n",
    "Zoe is a 30 year old white Irish woman who lives in the suburbs and works at a sedentary office job. She has a moderately balanced diet but exercises very little and does not have any known medical issues that would hinder weight loss. She believes that she can begin to lose weight by making some slight lifestyle adjustments rather than any drastic changes. In particular she plans to lower her calorie intake and add in a bit of exercise. \n",
    "\n",
    "The first thing she did was calculate how many calories she should consume per day in order to steadily lose weight. Two measurements were important here, her Basal Metabolic Rate (BMR) and Total Daily Energy Expenditure (TDEE). The BMR is the energy expenditure over a certain period of time by a person at rest (https://en.wikipedia.org/wiki/Basal_metabolic_rate). In other words, it is the number of calories burned by the body just by functioning normally without moving, such as breathing and circulating blood. It can be estimated based on a person's gender age, weight and height. The TDEE then is the number of calories a person should consume to maintain their current weight. There are many online calculators that help a person figure out their BMR - I have used a few different ones here see if different measurements are achieved:\n",
    "\n",
    "Measurements used: Female, 30 years old, starting weight 80k,  height 175cm:\n",
    "\n",
    "BMR\n",
    "- 1578: https://tdeecalculator.net/  \n",
    "- 1591: https://www.active.com/fitness/calculators/bmr \n",
    "- 1598: https://www.bodybuilding.com/fun/bmr_calculator.htm \n",
    "- 1578: https://www.calculator.net/bmr-calculator.html# \n",
    "- 1578: https://www.thecalculatorsite.com/health/bmr-calculator.php  (Mifflin St Jeor)\n",
    "- 1600: https://www.thecalculatorsite.com/health/bmr-calculator.php (Harris Benedict)\n",
    "\n",
    "TDEE: \n",
    "- https://tdeecalculator.net/ TDEE: 1894\n",
    "\n",
    "https://www.thecalculatorsite.com/health/bmr-calculator.php - has good explanation of equations\n",
    "\n",
    "\n",
    "Of course, not all calories are created equal. She could eat 1500 calories worth of junk food and still lose weight but this, of course would not be healthy. She aims each day to split her calorie allowance as follows: (https://www.healthline.com/nutrition/best-macronutrient-ratio#calorie-vs-calorie)\n",
    "\n",
    "    - 45-65% carbohydrates\n",
    "    - 20-35% fats\n",
    "    - 10-35% proteins \n",
    "    \n",
    "In this dataset the focus is on calories in and out but our subject is generally quite good at sticking to the above ratios. "
   ]
  },
  {
   "cell_type": "markdown",
   "metadata": {},
   "source": [
    "For exercise, look into how different exercises affect weight loss - a combination of cardio, strength training and flexibility training: https://www.verywellfit.com/types-of-exercise-for-weight-loss-3495992"
   ]
  },
  {
   "cell_type": "markdown",
   "metadata": {},
   "source": [
    "With calories I might split by protein, ft and carbs - "
   ]
  },
  {
   "cell_type": "markdown",
   "metadata": {},
   "source": [
    "## Calories In\n",
    "\n",
    "To track her calorie intake, Zoe used the LoseIt app (https://www.loseit.com/) which allows her to log everything she eats and provides her with a calorie total at the end of every day that she then logs into her dataset. \n",
    "\n",
    "It is not healthy to go below 1200 calories daily as it would be difficult to get the nutrition the body needs (https://www.everydayhealth.com/weight/can-more-calories-equal-more-weight-loss.aspx\n",
    "\n",
    "Zoe aims to lose the weight slowly and in a sustainable manner and so follows the guidance of 0.5kg per week (https://www.mayoclinic.org/healthy-lifestyle/weight-loss/in-depth/weight-loss/art-20047752) This means "
   ]
  },
  {
   "cell_type": "markdown",
   "metadata": {},
   "source": [
    "The randint function allows me to set minimum and maximum calorie values and was my first thought when trying to come up with a suitable function. As can be seen below, it returns 365 integer values that could potentially be used as calorie measurements."
   ]
  },
  {
   "cell_type": "code",
   "execution_count": 48,
   "metadata": {},
   "outputs": [
    {
     "data": {
      "text/plain": [
       "array([2425, 2083, 1499, 2166, 1680, 1550, 1892, 1655, 2209, 2375, 1725,\n",
       "       1419, 1432, 1875, 1902, 1528, 1220, 2162, 2349, 1442, 2256, 2459,\n",
       "       2044, 1434, 1242, 1917, 2491, 2103, 1931, 1809, 1484, 2330, 2364,\n",
       "       1995, 1240, 1547, 1816, 1296, 1730, 2233, 1296, 2179, 1243, 1716,\n",
       "       2079, 2207, 1717, 1952, 1416, 1689, 2429, 1653, 2415, 1552, 1595,\n",
       "       1686, 1526, 1918, 1532, 2293, 2051, 1304, 1441, 1535, 1247, 2067,\n",
       "       1659, 2453, 1609, 2216, 1419, 1318, 1393, 1403, 1714, 2180, 1350,\n",
       "       2024, 2189, 1307, 1411, 2229, 1405, 2331, 1253, 2471, 1211, 1696,\n",
       "       1793, 2480, 1303, 2417, 2395, 2251, 2237, 1225, 1266, 2383, 1763,\n",
       "       2219, 1228, 1382, 2173, 2022, 1811, 1392, 2215, 1537, 2363, 1482,\n",
       "       1701, 1237, 1251, 2498, 1927, 1554, 2053, 2311, 1693, 1265, 1408,\n",
       "       1709, 1240, 1262, 1558, 1552, 1363, 1495, 1451, 2254, 1907, 1743,\n",
       "       1986, 1845, 1280, 2380, 2469, 2394, 2487, 1878, 1557, 2000, 2218,\n",
       "       1960, 1347, 1740, 1348, 1641, 1211, 1415, 1812, 2406, 1499, 1977,\n",
       "       2147, 1805, 1756, 1906, 1961, 2044, 2191, 2154, 1511, 1812, 1712,\n",
       "       1719, 2256, 2136, 1211, 2470, 1230, 1815, 1298, 1771, 1616, 2321,\n",
       "       1442, 1972, 1742, 1857, 2393, 1400, 1386, 1712, 1645, 1381, 2161,\n",
       "       1898, 1580, 1738, 1215, 1200, 2167, 1670, 1952, 1533, 1508, 1847,\n",
       "       1498, 1358, 2255, 1688, 2288, 2315, 2339, 2429, 1996, 1641, 2499,\n",
       "       2422, 1209, 1387, 1859, 1616, 1203, 1219, 1404, 2211, 2182, 1354,\n",
       "       2456, 1823, 2332, 1828, 2041, 1684, 2278, 1316, 1857, 2215, 2115,\n",
       "       1325, 1813, 1381, 2217, 1203, 1946, 1525, 2354, 2218, 2011, 1466,\n",
       "       1870, 1439, 1685, 1656, 2026, 2494, 1380, 1974, 2267, 1288, 2348,\n",
       "       2235, 1814, 2334, 1331, 1591, 1851, 2089, 1601, 2385, 2371, 2387,\n",
       "       2116, 2102, 1376, 1956, 2241, 1491, 1258, 2069, 1742, 1611, 2284,\n",
       "       2329, 2040, 1748, 2497, 2480, 2407, 1612, 1641, 1783, 1650, 1784,\n",
       "       2017, 1328, 2228, 2378, 1595, 2293, 1402, 1338, 1877, 2236, 1224,\n",
       "       1861, 2442, 2069, 1470, 2370, 2437, 1792, 1628, 1425, 1429, 2219,\n",
       "       1575, 2359, 2391, 1926, 1559, 2426, 1887, 2180, 1683, 1608, 1860,\n",
       "       1281, 1488, 2163, 2238, 1253, 2353, 2468, 1223, 1954, 1781, 2305,\n",
       "       1828, 1697, 2299, 1663, 2076, 1867, 1862, 2422, 1641, 1964, 1342,\n",
       "       1618, 2123, 2063, 2317, 1526, 1344, 2174, 2080, 1449, 2425, 2028,\n",
       "       2493, 1486, 1624, 1533, 2363, 2411, 1342, 1315, 2027, 1440, 1424,\n",
       "       2012, 2201])"
      ]
     },
     "execution_count": 48,
     "metadata": {},
     "output_type": "execute_result"
    }
   ],
   "source": [
    "# Using randint for calorie in values\n",
    "first = np.random.randint(1200, 2500, 365)\n",
    "first"
   ]
  },
  {
   "cell_type": "markdown",
   "metadata": {},
   "source": [
    "However, the distribution for this function is uniform so Zoe is as likely to consume 2000 calories as she is to consume 1000 calories. Her daily calorie goal is the 1500 mark and so most values should ideally be centred around this figure. A normal distribution may work better. "
   ]
  },
  {
   "cell_type": "code",
   "execution_count": 49,
   "metadata": {},
   "outputs": [
    {
     "data": {
      "text/plain": [
       "<matplotlib.axes._subplots.AxesSubplot at 0x2a4f5448648>"
      ]
     },
     "execution_count": 49,
     "metadata": {},
     "output_type": "execute_result"
    },
    {
     "data": {
      "image/png": "[encoded data removed]",
      "text/plain": [
       "<Figure size 432x288 with 1 Axes>"
      ]
     },
     "metadata": {
      "needs_background": "light"
     },
     "output_type": "display_data"
    }
   ],
   "source": [
    "sns.distplot(first)"
   ]
  },
  {
   "cell_type": "markdown",
   "metadata": {},
   "source": [
    "Again there is an issue as just using a regular normal distribution can return some values that are unrealistically below the minimum threshold of 1200 calories. Setting the mean to 1500 and "
   ]
  },
  {
   "cell_type": "code",
   "execution_count": 55,
   "metadata": {},
   "outputs": [
    {
     "data": {
      "text/plain": [
       "array([1498.08816016, 1490.29703659, 1418.03459004, 1555.97227665,\n",
       "       1511.94189584, 1468.26420264, 1895.88744764, 1575.48937598,\n",
       "       1530.22610756, 1339.10401833, 1621.51853343, 1516.67760633,\n",
       "       1699.97097828, 1274.55516417, 1801.24623843, 1308.58115888,\n",
       "       1685.46446384, 1518.28985833, 1460.01117033, 1412.44128822,\n",
       "       1399.0127053 , 1392.81479012, 1558.45672273, 1484.99673511,\n",
       "       1853.75338789, 1694.22171103, 1270.35640289, 1441.83830097,\n",
       "       1711.03088039, 1528.81473268, 1225.64607051, 1527.61013286,\n",
       "       1573.3217146 , 1153.50837096, 1898.44536814, 1157.98185776,\n",
       "       1636.69805898, 1440.35010903, 1729.27548196, 1363.6978203 ,\n",
       "       1662.07888168, 1215.20331558, 1754.13166998, 1466.01003207,\n",
       "       1477.23006664, 1021.66947582, 1338.26402614, 1484.2084872 ,\n",
       "       1553.32053499, 1588.96082077, 1459.00860327, 1449.07490584,\n",
       "       1311.05853291, 1460.86010369, 1522.73748123, 1327.06300005,\n",
       "       1500.11174447, 1518.4990194 , 1325.50255229, 1537.03803594,\n",
       "       1567.94910261, 1558.71309617, 1309.16629473, 1465.63857067,\n",
       "       1483.63482727, 1464.82627879, 1174.69499752, 1576.80816719,\n",
       "       1538.18954977, 1152.51769259, 1380.47415021, 1626.27998422,\n",
       "       1447.03900559, 1311.72771624, 1419.78881944, 1455.12022596,\n",
       "       1250.36627239, 1353.30991296, 1999.10085809, 1486.63947926,\n",
       "       1556.18521694, 1372.65146233, 1208.72607481, 1595.31137106,\n",
       "       1335.0589725 , 1367.04451984, 1208.674632  , 1521.20319075,\n",
       "        942.14449359, 1855.75008831,  949.36435649, 1487.5483258 ,\n",
       "       1599.73387929, 1627.22497316, 1506.47526431, 1386.71718413,\n",
       "       1825.50927627, 1526.25703564, 1321.24685026, 1644.66234619,\n",
       "       1413.43722949, 1662.83863896, 1541.86196492, 1561.60720885,\n",
       "       1574.16823895, 1688.77218759, 1572.88243076, 1116.26323389,\n",
       "       1849.64066356, 1533.1625293 , 1532.31019435, 1363.13089398,\n",
       "       1127.60756963, 1557.84821601, 1673.21078416, 1215.33936303,\n",
       "       1655.08706048, 1721.18575306, 1444.62430127, 1538.98092949,\n",
       "       1174.27198909, 1627.12735891, 1143.82004977, 1777.53573179,\n",
       "       1426.52223832, 1616.36326707, 1164.01568306, 1384.84542688,\n",
       "       1445.09214643, 1390.63320955, 1521.14701237, 1204.71134917,\n",
       "       1391.8640002 , 1538.16713211, 1594.29643376, 1629.50524447,\n",
       "       1455.41731292, 1180.87277902, 1452.64766356, 1619.20268485,\n",
       "       1524.8650515 , 1716.86792303,  988.09647605, 1503.07634452,\n",
       "       1662.82037276, 1517.08511596, 1419.19215658, 1568.91059393,\n",
       "       1392.86582017, 1750.07558608, 1642.04039317, 1151.3528464 ,\n",
       "       1524.76158388, 1482.66969619, 1651.39795728, 1192.97738783,\n",
       "       1712.54645884, 1578.10842975, 1369.04930076, 1469.00832997,\n",
       "       1761.81275874, 1647.09671259, 1339.76562153, 1575.36398317,\n",
       "       2041.08984698, 1857.92233192, 1270.29872158, 1782.53085308,\n",
       "       1592.69893156, 1472.00127647, 1583.40871248, 1760.98463303,\n",
       "       1380.21833415, 1614.98709679, 1451.12071557, 1784.00880229,\n",
       "       1465.72963637, 1314.23959578, 1432.02176698, 1219.531988  ,\n",
       "       1362.8211405 , 1166.73287347, 1302.00259421, 1314.20027204,\n",
       "       1579.25489377, 1541.90917116, 1273.35381846, 1980.21128036,\n",
       "       1924.62885266, 1725.32988749, 1512.93542182, 1538.11956554,\n",
       "       1203.50361426, 1540.55507797, 1676.79441405, 1582.40415615,\n",
       "       1396.32913711, 1521.79523557, 1129.10953909, 1300.41332605,\n",
       "       1573.79318124, 1723.37709524, 1308.02028589, 1685.57354218,\n",
       "       1372.81086411, 1261.1054977 , 1506.96005719, 1386.46527939,\n",
       "       1799.62625761, 1507.87083928, 1414.4907898 , 1460.71269842,\n",
       "       1342.16243236, 1151.14209832, 1606.13315144, 1395.47165546,\n",
       "       1264.54085819, 1172.95259254, 1797.13163777, 1430.7523356 ,\n",
       "       1726.57744135, 1516.43012652, 1206.17719963, 1300.56988387,\n",
       "       1579.25677683, 1679.48752476, 1465.23306348, 1564.30100837,\n",
       "       1460.31063263, 1750.12802838, 1799.6332963 , 1454.79798835,\n",
       "       1497.58288735, 1405.30683468, 1738.0170063 , 1495.94002626,\n",
       "       1531.36685119, 1432.00722265, 1243.00977881, 1553.20154862,\n",
       "       1457.65554327, 1716.29110008, 1446.69310036, 1239.52174063,\n",
       "       1229.67519881, 1660.90761254, 1571.16435354, 1532.78371194,\n",
       "       1481.59446013, 1782.82069737, 1281.144379  , 1609.65590228,\n",
       "       1568.47516424, 1429.46068157, 1663.09330823, 1613.13684174,\n",
       "       1272.4272421 , 1273.69723729, 1282.83691286, 1606.96774019,\n",
       "       1426.93633027, 1531.075748  , 1677.03534301, 1323.05952889,\n",
       "       1342.40342416, 1774.95784166, 1902.78178597, 1583.95044676,\n",
       "       1219.77384656, 1837.11738862, 1306.67971307, 1350.62042577,\n",
       "       1403.06404483, 1607.02331355, 1769.5477918 , 1663.45044981,\n",
       "       1586.05500906, 1611.74171581, 1576.76242288, 1480.59343359,\n",
       "       1441.22976071, 1374.51669035, 1849.30803138, 1347.05657547,\n",
       "       1889.60168586, 1203.01381956, 1099.57090625, 1336.58948064,\n",
       "       1607.05653493, 1110.82273128, 1270.01381989, 1802.91128836,\n",
       "       1478.60666616, 1595.26303634, 1792.63472237, 1155.69767355,\n",
       "       1410.89591408, 1391.24932086, 1634.77782271, 1599.70022722,\n",
       "       1441.81180818, 1434.83996819, 1487.34065206, 1544.71886033,\n",
       "       1175.99015182, 1493.9641368 , 1571.73472453, 1531.16878284,\n",
       "       1791.20642082, 1135.12033213, 1337.01573693, 1892.62398603,\n",
       "       1341.36741627, 1492.47141462, 1670.51170974, 1293.25249907,\n",
       "       1583.43779386, 1157.03759592, 1509.81605364, 1498.05703578,\n",
       "       1752.05555523, 1754.5832758 , 1590.42685695, 1418.8653832 ,\n",
       "       1058.61095865, 1472.30283229, 1219.04004107, 1514.78873301,\n",
       "       1193.83470896, 1510.22366523, 1537.97166389, 1380.747097  ,\n",
       "       1406.59465037, 1251.3494898 , 1566.24438459, 1451.65680231,\n",
       "       1614.33141206, 1396.3194202 , 1599.78110581, 1355.03341149,\n",
       "       1314.2967403 , 1269.62427232, 1417.54817114, 1272.16083531,\n",
       "       1467.68572543, 1570.28293461, 1053.12460408, 1603.32805217,\n",
       "       1987.40084574, 2008.48965794, 1659.2018395 , 1794.13588885,\n",
       "       1425.95047034, 1904.49576341, 1534.65416304, 1834.3298148 ,\n",
       "       1106.83775605, 1294.50266561, 1281.92159008, 1332.37557364,\n",
       "       1637.73332975, 1538.14618632, 1321.00742227, 1763.28417227,\n",
       "       1758.68107608])"
      ]
     },
     "execution_count": 55,
     "metadata": {},
     "output_type": "execute_result"
    }
   ],
   "source": [
    "second = np.random.normal(1500, 200, 365)\n",
    "second"
   ]
  },
  {
   "cell_type": "markdown",
   "metadata": {},
   "source": [
    "The solution below used a truncated normal distribution which allows a range to be set and the data is normally distributed. I have also converted the results to integers as Zoe would realistically be tracking decimals of a calorie."
   ]
  },
  {
   "cell_type": "code",
   "execution_count": 51,
   "metadata": {},
   "outputs": [
    {
     "name": "stdout",
     "output_type": "stream",
     "text": [
      "[1379 1393 1680 1212 1357 1777 1698 1317 1316 1571 1739 1207 1760 1678\n",
      " 1256 1710 1747 1591 1438 1432 1246 1220 1569 1763 1562 1342 1515 1267\n",
      " 1686 1641 1573 1621 1549 1634 1366 1323 1505 1299 1528 1978 1443 1426\n",
      " 1572 1686 1599 1548 1522 1290 1618 1360 1642 1692 1614 1487 1447 1310\n",
      " 1703 1558 1515 1628 1692 1294 1401 1369 1307 1449 1551 1507 1697 1401\n",
      " 1369 1497 1217 1875 1232 1304 1929 1417 1806 1752 1265 1403 1879 1804\n",
      " 1569 1440 1293 1562 1310 1556 1484 1531 1345 1397 1525 1672 1248 1781\n",
      " 1546 1300 1449 1215 1512 1807 1591 1516 1673 1636 1520 1494 1574 1654\n",
      " 1466 1810 1201 1562 1420 1642 1366 1633 1455 1788 1635 1416 1360 1375\n",
      " 1626 1252 1530 1662 1834 1572 1516 1364 1631 1446 1902 1735 1538 1844\n",
      " 1603 1480 1473 1601 1422 1593 1675 1638 1457 1329 1562 1454 1667 1382\n",
      " 1218 1646 1459 1535 1960 1417 1670 1941 1769 1375 1691 1618 1208 1345\n",
      " 1335 1456 1299 1471 1521 1509 1200 1532 1590 1401 1365 1500 1538 1481\n",
      " 1522 1557 1500 1536 1564 1724 1646 1367 1909 1695 1472 1473 1355 1705\n",
      " 1315 1433 1348 1691 1494 1556 1592 1775 1417 1449 1398 1421 1423 1307\n",
      " 1820 1355 1545 1332 1402 1708 1495 1642 1399 1460 1919 1835 1519 1298\n",
      " 1768 1362 1752 1366 1349 1459 1231 1617 1424 1501 1476 1385 1652 1729\n",
      " 1637 2300 1577 1520 1620 1302 1316 1493 1468 1252 1506 1420 1467 1495\n",
      " 1513 1718 1325 1843 1548 1813 1336 2015 1520 1551 1444 1675 1323 1479\n",
      " 1570 1765 1581 1411 1433 1650 1468 1538 1429 1596 1388 1494 1551 1371\n",
      " 1309 1500 1837 1869 1609 1530 1776 1982 1581 1589 1604 1382 1556 1575\n",
      " 1454 1388 1476 1592 1397 1464 1478 1703 1839 1342 1916 1530 1739 1283\n",
      " 1294 1350 1620 1441 1323 1478 1555 1426 1668 1386 1538 1344 1584 1700\n",
      " 1310 1243 1622 1790 1317 1732 1468 1486 1814 1760 1806 1283 1661 1411\n",
      " 1480 1846 1638 1482 1480 1372 1307 1211 1526 1559 1495 1651 1554 1701\n",
      " 1694 1232 1312 1752 1752 1676 1348 1558 1396 1319 1643 1761 1842 1456\n",
      " 1240]\n"
     ]
    },
    {
     "data": {
      "text/plain": [
       "<matplotlib.axes._subplots.AxesSubplot at 0x2a4f559b648>"
      ]
     },
     "execution_count": 51,
     "metadata": {},
     "output_type": "execute_result"
    },
    {
     "data": {
      "image/png": "[encoded data removed]",
      "text/plain": [
       "<Figure size 432x288 with 1 Axes>"
      ]
     },
     "metadata": {
      "needs_background": "light"
     },
     "output_type": "display_data"
    }
   ],
   "source": [
    "# https://stackoverflow.com/a/18444710 \n",
    "# https://stackoverflow.com/a/53948014\n",
    "\n",
    "# The lowest \n",
    "low = 1200\n",
    "high = 2500\n",
    "mu = 1500\n",
    "sigma = 200\n",
    "\n",
    "x = stats.truncnorm((low - mu) / sigma, (high - mu) / sigma, loc=mu, scale=sigma)\n",
    "\n",
    "\n",
    "# https://docs.scipy.org/doc/scipy-0.15.1/reference/generated/scipy.stats.truncnorm.html\n",
    "\n",
    "calories_in = x.rvs(365)\n",
    "\n",
    "# https://stackoverflow.com/a/37411711\n",
    "calories_in = calories_in.astype(int)\n",
    "calories_in\n",
    "\n",
    "print(calories_in)\n",
    "sns.distplot(calories_in)\n"
   ]
  },
  {
   "cell_type": "markdown",
   "metadata": {},
   "source": [
    "## Weight Loss\n",
    "\n",
    "Could I do some kind of probability distribution that makes total weight go up/down?\n",
    "\n",
    "Or have one column with weight lost daily/weekly and then add/subtrct that to total weight in another column?\n",
    "\n",
    "Weight lost every week: Say I lose an average of 0.5kg per week with a standard deviation of 0.25 and over a normal distribution.\n",
    "\n",
    "Or with daily say it's 0.1kg per day average with a sd of 0.05g\n",
    "\n",
    "No! I should base the weight loss on the other variables - exercise and calories - with a random amount added or subtracted as weight loss is not exact (is this noise?)\n",
    "\n",
    "\n",
    "To account for daily fluctuations, weight loss or gain will not only depend on calories in/out but will also include a random variant. \n"
   ]
  },
  {
   "cell_type": "code",
   "execution_count": 3,
   "metadata": {},
   "outputs": [
    {
     "data": {
      "text/plain": [
       "array([ 0.48055521,  0.44827353,  0.37657714,  0.94817863,  0.67786405,\n",
       "        0.29871448,  0.52323585,  0.37332125,  0.25653545,  0.14368788,\n",
       "        0.53767549,  0.40787428,  0.79800474,  0.6540749 ,  0.33416117,\n",
       "        0.51950201,  0.43169395,  0.66521406,  0.93024271,  0.42838672,\n",
       "        0.76262367,  0.39973978,  0.22249537,  0.37974175,  0.59489701,\n",
       "        0.6153225 ,  0.33712963,  0.71622593,  0.42374726,  0.48985766,\n",
       "        0.57274321,  0.34415664,  0.47620664,  0.15097124,  0.6853785 ,\n",
       "        0.40059696,  0.61274841,  0.16280864,  0.23143242,  0.63945403,\n",
       "        0.55142052,  0.29082324,  0.03577611,  0.69649855,  0.80007367,\n",
       "        0.45230079,  0.35711728, -0.32274194,  0.37568517,  0.71055789,\n",
       "        0.19939859,  0.47341979,  0.95129441,  0.4372694 ,  0.82877567,\n",
       "        0.71961439,  0.72867572,  0.55210346,  0.74857188,  0.27919477,\n",
       "        0.524623  ,  0.95452667,  0.78282383,  0.77630728,  0.13538547,\n",
       "        0.46504802,  0.6038492 ,  0.24347475,  0.70252888,  0.89344134,\n",
       "        0.12404949,  0.74703798,  0.78211404,  0.68863935,  0.52021947,\n",
       "        0.11572936,  0.58885295,  0.37866297,  0.34749788,  0.78829562,\n",
       "        0.58767212,  0.18917531,  0.40268693,  0.66063823,  0.94211184,\n",
       "        0.28129453,  0.31887307,  0.70724517,  0.64581624,  0.05286554,\n",
       "        0.16477472, -0.04611341,  0.29745913,  0.96846573,  0.82772863,\n",
       "        0.86309788,  0.20615596,  0.57367839,  0.05268516,  0.68722211,\n",
       "        0.28407191,  0.35748345,  0.60770196,  0.6024312 ])"
      ]
     },
     "execution_count": 3,
     "metadata": {},
     "output_type": "execute_result"
    }
   ],
   "source": [
    "# Weight lost weekly. 104 rows \n",
    "\n",
    "np.random.normal(0.5, 0.25, 104)"
   ]
  },
  {
   "cell_type": "code",
   "execution_count": 4,
   "metadata": {},
   "outputs": [
    {
     "data": {
      "text/plain": [
       "array([ 0.06653508,  0.1084823 ,  0.12132907,  0.09214917,  0.14797802,\n",
       "        0.08233557,  0.11469866,  0.11747359,  0.10815189,  0.07642358,\n",
       "        0.07418683,  0.07955336, -0.00193811,  0.12179124,  0.19588352,\n",
       "        0.08096812,  0.12619661,  0.1498013 ,  0.1821961 ,  0.12159502,\n",
       "        0.05773352,  0.12960094,  0.13035353,  0.02414479,  0.15530385,\n",
       "        0.15019504,  0.05091494,  0.09532243,  0.15198879,  0.0667313 ,\n",
       "        0.18772655,  0.06479214,  0.10348458,  0.10380961,  0.1365718 ,\n",
       "        0.0859475 ,  0.14131143,  0.06762165,  0.12054157,  0.14398147,\n",
       "        0.08309198,  0.0481723 ,  0.09450384,  0.13714457,  0.03766729,\n",
       "        0.10631512,  0.12182329,  0.09914321,  0.17543918,  0.19001064,\n",
       "        0.00127832,  0.09080357,  0.11043911,  0.10318031,  0.10047428,\n",
       "        0.18674167,  0.1675915 ,  0.07026658,  0.0143609 ,  0.08169121,\n",
       "        0.02096385,  0.18539152,  0.06575867,  0.07208284,  0.14096826,\n",
       "        0.12279556,  0.10526863,  0.0739302 ,  0.06581024, -0.02213346,\n",
       "        0.09296174,  0.05095795,  0.08490898,  0.14797085,  0.04163499,\n",
       "        0.10954087,  0.14886068,  0.15839172,  0.21142595,  0.10898904,\n",
       "        0.18357676,  0.11738564,  0.09102824,  0.1298151 ,  0.05767991,\n",
       "        0.1876016 ,  0.1128757 ,  0.13711489,  0.10358405,  0.03504266,\n",
       "        0.03255036,  0.0083363 ,  0.01607303,  0.14348027,  0.08187286,\n",
       "        0.06615667,  0.13511825, -0.04921281,  0.09321598,  0.19792765,\n",
       "        0.03229851,  0.06158067,  0.03182553,  0.1237078 ,  0.07366004,\n",
       "        0.12498536,  0.13143142,  0.10639342,  0.10128894,  0.15723467,\n",
       "        0.11480252,  0.10989779,  0.10248048,  0.04455741,  0.15119323,\n",
       "        0.135061  ,  0.14723094,  0.04744455,  0.09504498])"
      ]
     },
     "execution_count": 4,
     "metadata": {},
     "output_type": "execute_result"
    }
   ],
   "source": [
    "# Weight lost daily. 119 rows\n",
    "np.random.normal(0.1, 0.05, 119)"
   ]
  },
  {
   "cell_type": "markdown",
   "metadata": {},
   "source": [
    "## Exercise\n",
    "\n",
    "This makes a case for doing a daily dataset - can't figure out how to do this weekly\n",
    "\n",
    "Either use randint or random choice\n",
    "\n",
    "With randint - assign exercises to different integers\n",
    "\n",
    "None = 1\n",
    "Walk = 2\n",
    "Jog = 3\n",
    "Yoga = 4\n",
    "\n",
    "With random choice the options are (None, Walk, Jog, Yoga)\n",
    "\n",
    "Use choice as you can set probability for each option.\n",
    "\n",
    "Jan-Apr = 119 days = 17 weeks\n",
    "\n",
    "Say I do some form of exercise about 5 days per week: None = 2 * 17 = 34 days of no exercise = ~28% (make it 29 for 100% probability altogether)\n",
    "\n",
    "I walk 3 days per week: Walk = 3 * 104 = 51 walks = ~43%\n",
    "\n",
    "I jog 1 day per week = 17 jogs = ~14%\n",
    "\n",
    "I have a yoga class about 1 day per week = 17 yoga classes = ~14%\n",
    "\n",
    "\n",
    "OR!\n",
    "\n",
    "I could still do the weekly thing if I change the size so it gives an array!\n",
    "\n",
    "\n",
    "Exercise not the most important thing for weight loss: https://www.vox.com/2016/4/28/11518804/weight-loss-exercise-myth-burn-calories\n",
    "\n",
    "Exercise and calories burned: https://www.sciencealert.com/how-to-calculate-calories-burned-met-value-exercise?perpetual=yes&limitstart=1"
   ]
  },
  {
   "cell_type": "code",
   "execution_count": 5,
   "metadata": {},
   "outputs": [
    {
     "data": {
      "text/plain": [
       "array([['none', 'walk', 'none', 'jog', 'walk', 'none', 'walk'],\n",
       "       ['walk', 'none', 'jog', 'walk', 'walk', 'jog', 'walk'],\n",
       "       ['jog', 'none', 'walk', 'walk', 'walk', 'walk', 'walk'],\n",
       "       ['walk', 'walk', 'none', 'walk', 'walk', 'none', 'none'],\n",
       "       ['none', 'walk', 'walk', 'none', 'walk', 'none', 'jog'],\n",
       "       ['walk', 'walk', 'none', 'walk', 'walk', 'jog', 'none'],\n",
       "       ['none', 'none', 'none', 'none', 'walk', 'yoga', 'yoga'],\n",
       "       ['walk', 'yoga', 'none', 'walk', 'jog', 'walk', 'none'],\n",
       "       ['walk', 'walk', 'yoga', 'jog', 'none', 'yoga', 'walk'],\n",
       "       ['jog', 'yoga', 'walk', 'none', 'walk', 'jog', 'none'],\n",
       "       ['jog', 'none', 'walk', 'yoga', 'walk', 'none', 'none'],\n",
       "       ['yoga', 'jog', 'none', 'walk', 'yoga', 'walk', 'yoga'],\n",
       "       ['yoga', 'walk', 'walk', 'walk', 'walk', 'walk', 'yoga'],\n",
       "       ['walk', 'walk', 'jog', 'none', 'walk', 'jog', 'jog'],\n",
       "       ['jog', 'none', 'walk', 'walk', 'none', 'none', 'yoga'],\n",
       "       ['walk', 'yoga', 'none', 'none', 'walk', 'yoga', 'none'],\n",
       "       ['walk', 'jog', 'walk', 'none', 'jog', 'walk', 'none'],\n",
       "       ['none', 'none', 'walk', 'none', 'walk', 'yoga', 'none'],\n",
       "       ['jog', 'jog', 'yoga', 'jog', 'jog', 'walk', 'none'],\n",
       "       ['none', 'none', 'walk', 'none', 'jog', 'walk', 'yoga'],\n",
       "       ['jog', 'jog', 'yoga', 'yoga', 'walk', 'walk', 'none'],\n",
       "       ['walk', 'walk', 'jog', 'walk', 'yoga', 'none', 'walk'],\n",
       "       ['none', 'walk', 'walk', 'yoga', 'none', 'jog', 'yoga'],\n",
       "       ['none', 'jog', 'none', 'walk', 'none', 'walk', 'yoga'],\n",
       "       ['jog', 'walk', 'walk', 'jog', 'walk', 'walk', 'walk'],\n",
       "       ['walk', 'walk', 'none', 'jog', 'walk', 'walk', 'walk'],\n",
       "       ['yoga', 'walk', 'walk', 'walk', 'walk', 'walk', 'none'],\n",
       "       ['walk', 'jog', 'none', 'none', 'walk', 'none', 'jog'],\n",
       "       ['none', 'yoga', 'walk', 'yoga', 'walk', 'jog', 'none'],\n",
       "       ['walk', 'yoga', 'walk', 'walk', 'walk', 'walk', 'none'],\n",
       "       ['yoga', 'walk', 'none', 'none', 'jog', 'yoga', 'walk'],\n",
       "       ['none', 'none', 'none', 'jog', 'none', 'yoga', 'walk'],\n",
       "       ['walk', 'none', 'jog', 'walk', 'jog', 'walk', 'walk'],\n",
       "       ['walk', 'walk', 'none', 'none', 'none', 'none', 'yoga'],\n",
       "       ['jog', 'walk', 'walk', 'jog', 'walk', 'walk', 'walk'],\n",
       "       ['walk', 'walk', 'yoga', 'yoga', 'none', 'yoga', 'yoga'],\n",
       "       ['yoga', 'none', 'none', 'walk', 'walk', 'walk', 'jog'],\n",
       "       ['walk', 'walk', 'walk', 'none', 'none', 'walk', 'walk'],\n",
       "       ['jog', 'yoga', 'jog', 'walk', 'walk', 'jog', 'none'],\n",
       "       ['yoga', 'none', 'walk', 'jog', 'none', 'jog', 'yoga'],\n",
       "       ['none', 'jog', 'jog', 'none', 'none', 'none', 'yoga'],\n",
       "       ['walk', 'jog', 'walk', 'walk', 'walk', 'walk', 'walk'],\n",
       "       ['none', 'walk', 'walk', 'none', 'yoga', 'walk', 'none'],\n",
       "       ['none', 'walk', 'walk', 'none', 'yoga', 'none', 'jog'],\n",
       "       ['yoga', 'walk', 'jog', 'none', 'walk', 'jog', 'walk'],\n",
       "       ['walk', 'jog', 'walk', 'none', 'yoga', 'walk', 'none'],\n",
       "       ['walk', 'walk', 'jog', 'walk', 'walk', 'walk', 'walk'],\n",
       "       ['walk', 'none', 'walk', 'none', 'walk', 'walk', 'jog'],\n",
       "       ['yoga', 'walk', 'jog', 'walk', 'yoga', 'none', 'walk'],\n",
       "       ['walk', 'walk', 'none', 'none', 'none', 'none', 'none'],\n",
       "       ['none', 'jog', 'walk', 'walk', 'none', 'walk', 'walk'],\n",
       "       ['none', 'yoga', 'yoga', 'walk', 'jog', 'jog', 'walk'],\n",
       "       ['none', 'walk', 'jog', 'yoga', 'none', 'jog', 'yoga'],\n",
       "       ['walk', 'jog', 'walk', 'yoga', 'walk', 'walk', 'walk'],\n",
       "       ['walk', 'jog', 'jog', 'jog', 'yoga', 'walk', 'yoga'],\n",
       "       ['jog', 'none', 'none', 'walk', 'walk', 'none', 'none'],\n",
       "       ['none', 'none', 'yoga', 'walk', 'none', 'walk', 'none'],\n",
       "       ['walk', 'walk', 'walk', 'yoga', 'none', 'walk', 'walk'],\n",
       "       ['yoga', 'yoga', 'walk', 'none', 'yoga', 'walk', 'walk'],\n",
       "       ['walk', 'walk', 'jog', 'jog', 'walk', 'walk', 'walk'],\n",
       "       ['yoga', 'walk', 'walk', 'yoga', 'jog', 'none', 'jog'],\n",
       "       ['walk', 'jog', 'jog', 'walk', 'yoga', 'walk', 'walk'],\n",
       "       ['jog', 'none', 'jog', 'none', 'walk', 'yoga', 'walk'],\n",
       "       ['walk', 'none', 'walk', 'none', 'walk', 'walk', 'jog'],\n",
       "       ['jog', 'jog', 'walk', 'walk', 'none', 'walk', 'yoga'],\n",
       "       ['walk', 'yoga', 'none', 'walk', 'none', 'none', 'walk'],\n",
       "       ['none', 'none', 'jog', 'walk', 'none', 'none', 'walk'],\n",
       "       ['walk', 'none', 'none', 'jog', 'walk', 'walk', 'walk'],\n",
       "       ['jog', 'jog', 'none', 'jog', 'jog', 'walk', 'walk'],\n",
       "       ['none', 'none', 'walk', 'jog', 'walk', 'walk', 'none'],\n",
       "       ['walk', 'jog', 'walk', 'walk', 'walk', 'jog', 'jog'],\n",
       "       ['walk', 'none', 'none', 'yoga', 'walk', 'walk', 'walk'],\n",
       "       ['jog', 'none', 'none', 'walk', 'none', 'jog', 'walk'],\n",
       "       ['walk', 'jog', 'none', 'jog', 'none', 'yoga', 'none'],\n",
       "       ['yoga', 'walk', 'none', 'walk', 'yoga', 'none', 'walk'],\n",
       "       ['yoga', 'none', 'walk', 'jog', 'none', 'walk', 'walk'],\n",
       "       ['walk', 'walk', 'yoga', 'yoga', 'walk', 'walk', 'yoga'],\n",
       "       ['walk', 'walk', 'none', 'walk', 'walk', 'walk', 'walk'],\n",
       "       ['walk', 'walk', 'none', 'jog', 'jog', 'none', 'walk'],\n",
       "       ['walk', 'jog', 'none', 'none', 'jog', 'none', 'walk'],\n",
       "       ['walk', 'yoga', 'none', 'none', 'walk', 'walk', 'walk'],\n",
       "       ['walk', 'walk', 'walk', 'none', 'jog', 'none', 'walk'],\n",
       "       ['none', 'walk', 'none', 'yoga', 'walk', 'none', 'walk'],\n",
       "       ['walk', 'none', 'walk', 'yoga', 'walk', 'walk', 'walk'],\n",
       "       ['walk', 'walk', 'walk', 'yoga', 'walk', 'none', 'walk'],\n",
       "       ['none', 'none', 'none', 'walk', 'walk', 'walk', 'jog'],\n",
       "       ['walk', 'walk', 'yoga', 'jog', 'none', 'walk', 'walk'],\n",
       "       ['walk', 'walk', 'yoga', 'none', 'walk', 'jog', 'jog'],\n",
       "       ['jog', 'yoga', 'none', 'walk', 'yoga', 'walk', 'none'],\n",
       "       ['walk', 'none', 'walk', 'yoga', 'walk', 'yoga', 'walk'],\n",
       "       ['walk', 'walk', 'yoga', 'walk', 'none', 'walk', 'walk'],\n",
       "       ['walk', 'none', 'yoga', 'walk', 'none', 'none', 'walk'],\n",
       "       ['yoga', 'jog', 'yoga', 'walk', 'jog', 'walk', 'walk'],\n",
       "       ['walk', 'yoga', 'none', 'walk', 'jog', 'none', 'none'],\n",
       "       ['jog', 'walk', 'yoga', 'walk', 'walk', 'yoga', 'jog'],\n",
       "       ['walk', 'jog', 'walk', 'none', 'none', 'walk', 'walk'],\n",
       "       ['walk', 'walk', 'walk', 'yoga', 'yoga', 'jog', 'jog'],\n",
       "       ['walk', 'yoga', 'jog', 'none', 'walk', 'walk', 'jog'],\n",
       "       ['none', 'walk', 'yoga', 'yoga', 'jog', 'none', 'none'],\n",
       "       ['none', 'walk', 'yoga', 'walk', 'jog', 'walk', 'walk'],\n",
       "       ['walk', 'jog', 'none', 'walk', 'jog', 'walk', 'walk'],\n",
       "       ['jog', 'yoga', 'walk', 'walk', 'jog', 'jog', 'yoga'],\n",
       "       ['walk', 'jog', 'jog', 'none', 'jog', 'walk', 'yoga'],\n",
       "       ['yoga', 'yoga', 'walk', 'yoga', 'jog', 'yoga', 'none'],\n",
       "       ['none', 'none', 'walk', 'none', 'walk', 'jog', 'none'],\n",
       "       ['walk', 'none', 'walk', 'walk', 'walk', 'walk', 'none'],\n",
       "       ['yoga', 'jog', 'none', 'walk', 'walk', 'none', 'jog'],\n",
       "       ['walk', 'walk', 'walk', 'none', 'yoga', 'walk', 'yoga'],\n",
       "       ['walk', 'walk', 'none', 'none', 'walk', 'none', 'none'],\n",
       "       ['walk', 'walk', 'walk', 'walk', 'walk', 'none', 'walk'],\n",
       "       ['none', 'walk', 'walk', 'yoga', 'none', 'yoga', 'walk'],\n",
       "       ['walk', 'walk', 'walk', 'walk', 'jog', 'none', 'jog'],\n",
       "       ['yoga', 'none', 'walk', 'walk', 'yoga', 'none', 'walk'],\n",
       "       ['none', 'none', 'walk', 'walk', 'none', 'none', 'jog'],\n",
       "       ['jog', 'walk', 'walk', 'walk', 'walk', 'none', 'walk'],\n",
       "       ['none', 'jog', 'none', 'walk', 'walk', 'yoga', 'jog'],\n",
       "       ['walk', 'walk', 'none', 'walk', 'walk', 'walk', 'none'],\n",
       "       ['none', 'walk', 'yoga', 'jog', 'yoga', 'yoga', 'walk'],\n",
       "       ['walk', 'yoga', 'none', 'jog', 'walk', 'jog', 'yoga']],\n",
       "      dtype='<U4')"
      ]
     },
     "execution_count": 5,
     "metadata": {},
     "output_type": "execute_result"
    }
   ],
   "source": [
    "excercises = [\"none\", \"walk\", \"jog\", \"yoga\"]\n",
    "\n",
    "np.random.choice(excercises, size = (119, 7), p=[0.29, 0.43, 0.14, 0.14])"
   ]
  },
  {
   "cell_type": "markdown",
   "metadata": {},
   "source": [
    "Since BMR and TDEE are both going to change as weight fluctuates, I have created the function below to recalculate them each day as part of the calories burned. I have used the Mifflin-St Jeor calculation as it is widely used and deemed to be quite accurate"
   ]
  },
  {
   "cell_type": "code",
   "execution_count": 9,
   "metadata": {},
   "outputs": [
    {
     "data": {
      "text/plain": [
       "1899.3"
      ]
     },
     "execution_count": 9,
     "metadata": {},
     "output_type": "execute_result"
    }
   ],
   "source": [
    "# TDEE function\n",
    "# only weight will change in this calculation\n",
    "\n",
    "def tdee(weight):\n",
    "    bmr = 10 * weight + 6.25 * 175 - 5 * 30 -161\n",
    "    result = bmr * 1.2\n",
    "    return result\n",
    "\n",
    "tdee(80)"
   ]
  },
  {
   "cell_type": "markdown",
   "metadata": {},
   "source": [
    "Below is a function that tracks the estimated calories burned by exercising. Our subject exercises most days per week and averages at about 45 minutes per session, sometimes more, sometimes less. She uses her fitbit to calculate the amount of calories burned for each exercise session and logs that into her spreadsheet. "
   ]
  },
  {
   "cell_type": "code",
   "execution_count": 10,
   "metadata": {
    "scrolled": true
   },
   "outputs": [
    {
     "data": {
      "text/plain": [
       "377.291461115321"
      ]
     },
     "execution_count": 10,
     "metadata": {},
     "output_type": "execute_result"
    }
   ],
   "source": [
    "# https://stackoverflow.com/questions/26886653/pandas-create-new-column-based-on-values-from-other-columns-apply-a-function-o\n",
    "\n",
    "def exercise(activity):\n",
    "    if activity == 'yoga':\n",
    "        return np.random.normal(150, 50)\n",
    "    elif activity == 'walking':\n",
    "        return np.random.normal(250, 50)\n",
    "    elif activity == 'jogging':\n",
    "        return np.random.normal(300, 50)\n",
    "    else:\n",
    "        return 0\n",
    "    \n",
    "exercise('jogging')"
   ]
  },
  {
   "cell_type": "markdown",
   "metadata": {},
   "source": [
    "Study about outdated 3500cal = 1lb idea: https://www.ncbi.nlm.nih.gov/pmc/articles/PMC4035446/"
   ]
  },
  {
   "cell_type": "code",
   "execution_count": 11,
   "metadata": {},
   "outputs": [
    {
     "data": {
      "text/plain": [
       "448.717948"
      ]
     },
     "execution_count": 11,
     "metadata": {},
     "output_type": "execute_result"
    }
   ],
   "source": [
    "def cal_to_gram(calories):\n",
    "    gram = calories * 0.128205128\n",
    "    return gram\n",
    "cal_to_gram(3500)"
   ]
  },
  {
   "cell_type": "code",
   "execution_count": null,
   "metadata": {},
   "outputs": [],
   "source": []
  }
 ],
 "metadata": {
  "kernelspec": {
   "display_name": "Python 3",
   "language": "python",
   "name": "python3"
  },
  "language_info": {
   "codemirror_mode": {
    "name": "ipython",
    "version": 3
   },
   "file_extension": ".py",
   "mimetype": "text/x-python",
   "name": "python",
   "nbconvert_exporter": "python",
   "pygments_lexer": "ipython3",
   "version": "3.7.4"
  },
  "toc": {
   "base_numbering": 1,
   "nav_menu": {},
   "number_sections": true,
   "sideBar": false,
   "skip_h1_title": true,
   "title_cell": "Table of Contents",
   "title_sidebar": "Contents",
   "toc_cell": true,
   "toc_position": {},
   "toc_section_display": true,
   "toc_window_display": false
  }
 },
 "nbformat": 4,
 "nbformat_minor": 2
}
