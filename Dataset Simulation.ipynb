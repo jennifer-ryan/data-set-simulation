{
 "cells": [
  {
   "cell_type": "markdown",
   "metadata": {},
   "source": [
    "# Dataset Simulation: Weight Loss "
   ]
  },
  {
   "cell_type": "markdown",
   "metadata": {
    "toc": true
   },
   "source": [
    "<h1>Table of Contents<span class=\"tocSkip\"></span></h1>\n",
    "<div class=\"toc\"><ul class=\"toc-item\"><li><span><a href=\"#Introduction\" data-toc-modified-id=\"Introduction-1\"><span class=\"toc-item-num\">1&nbsp;&nbsp;</span>Introduction</a></span></li><li><span><a href=\"#Preliminary-Measurements\" data-toc-modified-id=\"Preliminary-Measurements-2\"><span class=\"toc-item-num\">2&nbsp;&nbsp;</span>Preliminary Measurements</a></span><ul class=\"toc-item\"><li><span><a href=\"#Body-Mass-Index-(BMI)\" data-toc-modified-id=\"Body-Mass-Index-(BMI)-2.1\"><span class=\"toc-item-num\">2.1&nbsp;&nbsp;</span>Body Mass Index (BMI)</a></span></li><li><span><a href=\"#Basal-Metabolic-Rate-(BMR)\" data-toc-modified-id=\"Basal-Metabolic-Rate-(BMR)-2.2\"><span class=\"toc-item-num\">2.2&nbsp;&nbsp;</span>Basal Metabolic Rate (BMR)</a></span></li><li><span><a href=\"#Total-Daily-Energy-Expenditure-(TDEE)\" data-toc-modified-id=\"Total-Daily-Energy-Expenditure-(TDEE)-2.3\"><span class=\"toc-item-num\">2.3&nbsp;&nbsp;</span>Total Daily Energy Expenditure (TDEE)</a></span></li><li><span><a href=\"#Weight-Goal-and-Calorie-Deficit\" data-toc-modified-id=\"Weight-Goal-and-Calorie-Deficit-2.4\"><span class=\"toc-item-num\">2.4&nbsp;&nbsp;</span>Weight Goal and Calorie Deficit</a></span></li></ul></li><li><span><a href=\"#Time\" data-toc-modified-id=\"Time-3\"><span class=\"toc-item-num\">3&nbsp;&nbsp;</span>Time</a></span><ul class=\"toc-item\"><li><span><a href=\"#Code\" data-toc-modified-id=\"Code-3.1\"><span class=\"toc-item-num\">3.1&nbsp;&nbsp;</span>Code</a></span></li></ul></li><li><span><a href=\"#Calories-In\" data-toc-modified-id=\"Calories-In-4\"><span class=\"toc-item-num\">4&nbsp;&nbsp;</span>Calories In</a></span></li><li><span><a href=\"#Exercise\" data-toc-modified-id=\"Exercise-5\"><span class=\"toc-item-num\">5&nbsp;&nbsp;</span>Exercise</a></span></li><li><span><a href=\"#Weight-Loss\" data-toc-modified-id=\"Weight-Loss-6\"><span class=\"toc-item-num\">6&nbsp;&nbsp;</span>Weight Loss</a></span></li></ul></div>"
   ]
  },
  {
   "cell_type": "code",
   "execution_count": 1,
   "metadata": {},
   "outputs": [],
   "source": [
    "import numpy as np\n",
    "import pandas as pd\n",
    "import scipy.stats as stats\n",
    "import seaborn as sns\n",
    "import matplotlib.pyplot as plt\n",
    "%matplotlib inline\n",
    "\n",
    "# When you want to see whole dataset\n",
    "#pd.set_option('display.max_rows', None)\n",
    "\n",
    "# setting random seed for reproducible results.\n",
    "np.random.seed(1)"
   ]
  },
  {
   "cell_type": "markdown",
   "metadata": {},
   "source": [
    "## Introduction\n",
    "\n",
    "This project simulates a dataset created by a woman - let's call her Zoe - who decided to track her weight loss efforts in a spreadsheet over the course of a calender year from 01/01/18 - 31/12/18. As a new years resolution she decided to begin eating less and exercising more in order to lose weight and be more healthy overall. To set herself up for success, she did a lot of research beforehand and was very fastidious in logging her calorie intake, estimated calorie output and actual weight loss.  \n",
    "\n",
    "At its most basic, weight loss comes down to burning more calories you consume but there are several factors that can contribute to its complexity such as: (https://www.niddk.nih.gov/health-information/weight-management/adult-overweight-obesity/factors-affecting-weight-health)\n",
    "\n",
    "- Genetics\n",
    "- Race\n",
    "- Sex\n",
    "- Age\n",
    "- Diet\n",
    "- Physical activity\n",
    "- Environment\n",
    "- Medical issues\n",
    "\n",
    "Zoe is a 30 year old white Irish woman who lives in the suburbs and works an office job. She has a moderately balanced diet (if perhaps a bit overindulgent!), exercises very little, and does not have any known medical issues that would have a direct affect on her weight. Since there are no glaring physical or environmental factors that should hinder her weight loss efforts, she believes that she can start to lose weight by making some slight lifestyle adjustments rather than any drastic changes. Fad diets or dietary supplements that promise quick weight-loss results are difficult to stick to long-term and can potentially be bad for one's health (https://www.indi.ie/fact-sheets/healthy-eating,-healthy-weight-and-dieting/436-the-truth-about-fad-diets-and-dietary-supplements-for-weight-loss.html) so Zoe decides to lower her calorie intake, without changing the type food she eats too much, and adds in a bit of exercise. \n",
    "\n",
    "There are some initial measurements that are useful to know before beginning any weight loss regimen:\n",
    "\n",
    "- Body Mass index (BMI)\n",
    "- Basal Metabolic Rate (BMR)\n",
    "- Total Daily Energy Expenditure (TDEE)\n",
    "- Weight goal and estimated calorie deficit"
   ]
  },
  {
   "cell_type": "markdown",
   "metadata": {},
   "source": [
    "<br>\n",
    "\n",
    "## Preliminary Measurements\n",
    "\n",
    "\n",
    "### Body Mass Index (BMI) \n",
    "\n",
    "BMI is a guideline used to determine if a person is underweight, an optimal weight, overweight or obese based on their height and weight. (https://en.wikipedia.org/wiki/Body_mass_index) The formula to determine BMI is **kg/m<sup>2</sup>** and the result categorises a person as follows:\n",
    "\n",
    "<img src='https://files.prokerala.com/health/images/bmi-category.png' style='width: 300px'>\n",
    "\n",
    "\n",
    "Based on Zoe's starting weight of 80kg and height of 175cm, her BMI is calculated below as 26.1, placing her in the overweight category and further confirming her desire to lose weight."
   ]
  },
  {
   "cell_type": "code",
   "execution_count": 2,
   "metadata": {},
   "outputs": [
    {
     "name": "stdout",
     "output_type": "stream",
     "text": [
      "Starting BMI: 26.12\n"
     ]
    }
   ],
   "source": [
    "# Height (cm) and starting weight (kg) variables\n",
    "height = 175\n",
    "starting_weight = 80\n",
    "\n",
    "# BMI function\n",
    "def bmi(weight, height):\n",
    "    result = weight/(height/100)**2\n",
    "    return result\n",
    "\n",
    "# Starting BMI\n",
    "starting_bmi = bmi(starting_weight, height)\n",
    "print(\"Starting BMI:\", round(starting_bmi, 2) )"
   ]
  },
  {
   "cell_type": "markdown",
   "metadata": {},
   "source": [
    "<br>\n",
    "\n",
    "### Basal Metabolic Rate (BMR)\n",
    "\n",
    "BMR is a person's estimated energy expenditure over the course of a day when they are at rest.(https://en.wikipedia.org/wiki/Basal_metabolic_rate) In other words, it is the number of calories burned by the body just performing basic functions like breathing or circulating blood. BMR is determined by a person's  weight, height, age and sex. There are many online calculators where a person can input these values to get an approximation of their BMR. Some use the Mifflin-St Jeor equation while others use the Harris-Benedict equation. (https://tdeecalculator.net/ ; https://www.calculator.net/bmr-calculator.html#; https://www.thecalculatorsite.com/health/bmr-calculator.php; https://www.bodybuilding.com/fun/bmr_calculator.htm ) The Mifflin-St Jeor equation is an updated version of the 100 year old Harris-Benedict equation and is considered to be more accurate to modern life (https://en.wikipedia.org/wiki/Harris%E2%80%93Benedict_equation) so Zoe decides to use this equation to calculate her BMR. The formula is as follows:\n",
    "\n",
    "**<center>10 * weight(kg) + 6.25 * height(cm) - 5 * age(years) + s</center>**\n",
    "\n",
    "where s represents sex and is a value of 5 for a male and -161 for a female.(https://www.omnicalculator.com/health/bmr) Zoe's BMR is calculated below with this formula as 1583 calories, meaning she burns approximately this number of calories at minimum every day."
   ]
  },
  {
   "cell_type": "code",
   "execution_count": 3,
   "metadata": {},
   "outputs": [
    {
     "name": "stdout",
     "output_type": "stream",
     "text": [
      "Starting BMR:  1583 calories.\n"
     ]
    }
   ],
   "source": [
    "# Variables to determine BMR.\n",
    "age = 30\n",
    "male = 5\n",
    "female = -161\n",
    "\n",
    "# BMR function\n",
    "def bmr(weight, height, age, sex):\n",
    "    result = 10 * weight + 6.25 * height - 5 * age + sex\n",
    "    return result\n",
    "\n",
    "# Calculating and displaying starting BMR.\n",
    "starting_bmr = bmr(starting_weight, height, age, female)\n",
    "print('Starting BMR: ', round(starting_bmr), 'calories.')"
   ]
  },
  {
   "cell_type": "markdown",
   "metadata": {},
   "source": [
    "<br>\n",
    "\n",
    "### Total Daily Energy Expenditure (TDEE)\n",
    "\n",
    "TDEE is a person's estimated energy expenditure when daily activity is taken into account.(https://tdeecalculator.net/) It is calculated by taking a person's BMR and multiplying it by a number that represents their activity level, ranging from sedentary to athlete. The image below shows the different activity multipliers that can be used to calculate TDEE: (https://www.thecalculatorsite.com/health/bmr-calculator.php)\n",
    "\n",
    "<img src='https://i.imgur.com/J6Zydr4.png' style='width: 400px'>\n",
    "\n",
    "\n",
    "TDEE thus represents the number of calories a person should consume if they want to maintain their current weight and so to lose weight they should aim to undercut this figure. Zoe considers herself to be quite sedentary as she does not exercise much and has a job where she is seated most of the day and so her TDEE is estimated below to be 1899 calories."
   ]
  },
  {
   "cell_type": "code",
   "execution_count": 4,
   "metadata": {},
   "outputs": [
    {
     "name": "stdout",
     "output_type": "stream",
     "text": [
      "Starting TDEE: 1899 calories.\n"
     ]
    }
   ],
   "source": [
    "# TDEE function\n",
    "def tdee(weight):\n",
    "    result = bmr(weight, height, age, female) * 1.2\n",
    "    return result\n",
    "         \n",
    "# Calculating and displaying starting TDEE\n",
    "starting_tdee = tdee(starting_weight)\n",
    "print('Starting TDEE:', round(starting_tdee), 'calories.')"
   ]
  },
  {
   "cell_type": "markdown",
   "metadata": {},
   "source": [
    "<br>\n",
    "\n",
    "### Weight Goal and Calorie Deficit\n",
    "\n",
    "With a TDEE of 1899, Zoe needs to decide what kind of calorie deficit she wishes to make. She aims to lose weight in a slow, sustainable manner in the hopes of losing 12kg over the course of the year. It is often estimated that to lose a pound (0.454kg) of fat, one needs to burn about 3500 calories, (https://www.mayoclinic.org/healthy-lifestyle/weight-loss/in-depth/calories/art-20048065) but this should only be taken as a guideline, not a fact as it is, at the very least, an over-simplication.  (https://www.ncbi.nlm.nih.gov/pmc/articles/PMC4035446/) However, it serves as a useful starting point for someone looking to estimate their calorie deficit goals and so Zoe works her calculations based on a 3500 calorie deficit being equivalent to 454g weight loss. \n",
    "\n",
    "To reach her target of a 12kg loss in the year, Zoe will need to lose about 0.231kg every week. To simplify her calculations, she decides to follow the 3500 calorie deficit every fortnight, which should allow her to lose about 0.227g per week. As calculated below, this means she needs to cut her daily calorie intake by about 250 calories below her TDEE and so sets her daily allowance to 1649 calories"
   ]
  },
  {
   "cell_type": "code",
   "execution_count": 5,
   "metadata": {},
   "outputs": [
    {
     "name": "stdout",
     "output_type": "stream",
     "text": [
      "Target weekly weight loss: 0.231kg\n",
      "\n",
      "Estimated weekly weight loss based on calorie deficit of 1750: 0.227kg\n",
      "\n",
      "Daily calorie deficit required: 250\n",
      "\n",
      "Daily calorie allowance: 1649\n"
     ]
    }
   ],
   "source": [
    "# Target total weight loss in grams\n",
    "target = 12\n",
    "\n",
    "# Target weekly weight loss\n",
    "weekly_target = target/52\n",
    "print('Target weekly weight loss:', str(round(weekly_target, 3)) + 'kg')\n",
    "\n",
    "# Estimated number of kg per calorie based on 3500cal = 0.454kg\n",
    "kg_per_cal = 0.454/3500 \n",
    "\n",
    "# Function converting calories to kg \n",
    "def cal_to_kg(calories):\n",
    "    kg = calories * kg_per_cal\n",
    "    return kg\n",
    "\n",
    "# Weekly and daily calorie deficits\n",
    "weekly_cal_deficit = 1750\n",
    "daily_cal_deficit = weekly_cal_deficit/7\n",
    "\n",
    "# Weekly weight loss, daily calorie deficit and daily calorie allowance targets\n",
    "print('')\n",
    "print('Estimated weekly weight loss based on calorie deficit of', str(weekly_cal_deficit) + ':', str(cal_to_kg(weekly_cal_deficit)) + 'kg')\n",
    "print('')\n",
    "print('Daily calorie deficit required:', round(daily_cal_deficit))\n",
    "print('')\n",
    "print('Daily calorie allowance:', round(starting_tdee - daily_cal_deficit))"
   ]
  },
  {
   "cell_type": "markdown",
   "metadata": {},
   "source": [
    "It should be noted that not all calories are created equal. Zoe could eat at a calorie deficit consisting entirely of junk food and still lose weight but this, of course, would not be healthy. She aims each day to follow the guide below when dividing her calorie allowance: (https://www.healthline.com/nutrition/best-macronutrient-ratio#calorie-vs-calorie)\n",
    "\n",
    "    - 45-65% carbohydrates\n",
    "    - 20-35% fats\n",
    "    - 10-35% proteins \n",
    "    \n",
    "In her spreadsheet, however, she focuses on calories in and out rather than specific macronutrients but she is generally quite good at sticking to the above ratios in order to have a balanced diet."
   ]
  },
  {
   "cell_type": "markdown",
   "metadata": {},
   "source": [
    "## Time\n",
    "\n",
    "With her goals set, the next thing Zoe had to decide is how often to track her progress. She finds a lot of conflicting information online about how regularly one should weigh themselves when trying to lose weight. Some believe that weighing in too frequently can cause anxiety (https://health.clevelandclinic.org/why-you-shouldnt-weigh-yourself-every-single-day/) or discouragement (https://www.medicinenet.com/to_weigh__or_not_to_weighthat_is_the_question/views.htm) as weight fluctuations in the short-term can be quite unpredictable due to factors such as hydration or what was last eaten. However, some studies have shown that higher weighing frequ0ency is associated with greater weight loss, (https://link.springer.com/article/10.1207/s15324796abm3003_5) less weight regain, (https://link.springer.com/article/10.1186/1479-5868-5-54) and is not associated with adverse psychological outcomes like anxiety (https://onlinelibrary.wiley.com/doi/full/10.1002/oby.20946). It really comes down to personal preference and what an individual feels works well for them. (https://blog.myfitnesspal.com/how-often-should-you-weigh-yourself/)\n",
    "\n",
    "Zoe is interested in collecting as much data as possible to track her weight loss efforts and so decides to follow a guide that suggests she weigh herself first thing in the morning every day (https://www.consumerreports.org/scales/the-best-time-to-weigh-yourself/) as she finds the consistent feedback helps her to stay on track and keep herself accountable. \n",
    "\n",
    "\n",
    "### Code\n",
    "The pandas *date_range* function was used to create a range of dates from 01/01/18 - 31/12/18 to track Zoe's daily inputs. (https://pandas.pydata.org/pandas-docs/stable/reference/api/pandas.Series.dt.weekday.html This is used to create the first column of the dataset.\n",
    "   "
   ]
  },
  {
   "cell_type": "code",
   "execution_count": 10,
   "metadata": {},
   "outputs": [
    {
     "data": {
      "text/html": [
       "<div>\n",
       "<style scoped>\n",
       "    .dataframe tbody tr th:only-of-type {\n",
       "        vertical-align: middle;\n",
       "    }\n",
       "\n",
       "    .dataframe tbody tr th {\n",
       "        vertical-align: top;\n",
       "    }\n",
       "\n",
       "    .dataframe thead th {\n",
       "        text-align: right;\n",
       "    }\n",
       "</style>\n",
       "<table border=\"1\" class=\"dataframe\">\n",
       "  <thead>\n",
       "    <tr style=\"text-align: right;\">\n",
       "      <th></th>\n",
       "      <th>date</th>\n",
       "    </tr>\n",
       "  </thead>\n",
       "  <tbody>\n",
       "    <tr>\n",
       "      <td>0</td>\n",
       "      <td>2018-01-01</td>\n",
       "    </tr>\n",
       "    <tr>\n",
       "      <td>1</td>\n",
       "      <td>2018-01-02</td>\n",
       "    </tr>\n",
       "    <tr>\n",
       "      <td>2</td>\n",
       "      <td>2018-01-03</td>\n",
       "    </tr>\n",
       "    <tr>\n",
       "      <td>3</td>\n",
       "      <td>2018-01-04</td>\n",
       "    </tr>\n",
       "    <tr>\n",
       "      <td>4</td>\n",
       "      <td>2018-01-05</td>\n",
       "    </tr>\n",
       "    <tr>\n",
       "      <td>...</td>\n",
       "      <td>...</td>\n",
       "    </tr>\n",
       "    <tr>\n",
       "      <td>360</td>\n",
       "      <td>2018-12-27</td>\n",
       "    </tr>\n",
       "    <tr>\n",
       "      <td>361</td>\n",
       "      <td>2018-12-28</td>\n",
       "    </tr>\n",
       "    <tr>\n",
       "      <td>362</td>\n",
       "      <td>2018-12-29</td>\n",
       "    </tr>\n",
       "    <tr>\n",
       "      <td>363</td>\n",
       "      <td>2018-12-30</td>\n",
       "    </tr>\n",
       "    <tr>\n",
       "      <td>364</td>\n",
       "      <td>2018-12-31</td>\n",
       "    </tr>\n",
       "  </tbody>\n",
       "</table>\n",
       "<p>365 rows × 1 columns</p>\n",
       "</div>"
      ],
      "text/plain": [
       "          date\n",
       "0   2018-01-01\n",
       "1   2018-01-02\n",
       "2   2018-01-03\n",
       "3   2018-01-04\n",
       "4   2018-01-05\n",
       "..         ...\n",
       "360 2018-12-27\n",
       "361 2018-12-28\n",
       "362 2018-12-29\n",
       "363 2018-12-30\n",
       "364 2018-12-31\n",
       "\n",
       "[365 rows x 1 columns]"
      ]
     },
     "execution_count": 10,
     "metadata": {},
     "output_type": "execute_result"
    }
   ],
   "source": [
    "# Defining start and end dates.\n",
    "start = '2018-01-01'\n",
    "end = '2018-12-31'\n",
    "\n",
    "# Creating the date range.\n",
    "date = pd.date_range(start, end, freq='D')\n",
    "\n",
    "# Creating the dataframe and first column: date.\n",
    "df = pd.DataFrame({'date': date})\n",
    "\n",
    "# Printing current dataset.\n",
    "df"
   ]
  },
  {
   "cell_type": "markdown",
   "metadata": {},
   "source": [
    "Another column containing the day of the week is added to the dataset (https://stackoverflow.com/a/30222759) so Zoe can observe any behavioural patterns that occur on particular days, such as days she tends to indulge a bit more or days she's more likely to exercise. She believes this will help her to be more conscious of her habits, both good and bad. For this reason, the column is converted from an object datatype to a categorical datatype (https://pandas.pydata.org/pandas-docs/stable/user_guide/categorical.html) to aid in categorical statistical research and plotting. (https://stackoverflow.com/questions/30601830/when-to-use-category-rather-than-object) "
   ]
  },
  {
   "cell_type": "code",
   "execution_count": 11,
   "metadata": {},
   "outputs": [
    {
     "data": {
      "text/html": [
       "<div>\n",
       "<style scoped>\n",
       "    .dataframe tbody tr th:only-of-type {\n",
       "        vertical-align: middle;\n",
       "    }\n",
       "\n",
       "    .dataframe tbody tr th {\n",
       "        vertical-align: top;\n",
       "    }\n",
       "\n",
       "    .dataframe thead th {\n",
       "        text-align: right;\n",
       "    }\n",
       "</style>\n",
       "<table border=\"1\" class=\"dataframe\">\n",
       "  <thead>\n",
       "    <tr style=\"text-align: right;\">\n",
       "      <th></th>\n",
       "      <th>date</th>\n",
       "      <th>day</th>\n",
       "    </tr>\n",
       "  </thead>\n",
       "  <tbody>\n",
       "    <tr>\n",
       "      <td>0</td>\n",
       "      <td>2018-01-01</td>\n",
       "      <td>Monday</td>\n",
       "    </tr>\n",
       "    <tr>\n",
       "      <td>1</td>\n",
       "      <td>2018-01-02</td>\n",
       "      <td>Tuesday</td>\n",
       "    </tr>\n",
       "    <tr>\n",
       "      <td>2</td>\n",
       "      <td>2018-01-03</td>\n",
       "      <td>Wednesday</td>\n",
       "    </tr>\n",
       "    <tr>\n",
       "      <td>3</td>\n",
       "      <td>2018-01-04</td>\n",
       "      <td>Thursday</td>\n",
       "    </tr>\n",
       "    <tr>\n",
       "      <td>4</td>\n",
       "      <td>2018-01-05</td>\n",
       "      <td>Friday</td>\n",
       "    </tr>\n",
       "    <tr>\n",
       "      <td>...</td>\n",
       "      <td>...</td>\n",
       "      <td>...</td>\n",
       "    </tr>\n",
       "    <tr>\n",
       "      <td>360</td>\n",
       "      <td>2018-12-27</td>\n",
       "      <td>Thursday</td>\n",
       "    </tr>\n",
       "    <tr>\n",
       "      <td>361</td>\n",
       "      <td>2018-12-28</td>\n",
       "      <td>Friday</td>\n",
       "    </tr>\n",
       "    <tr>\n",
       "      <td>362</td>\n",
       "      <td>2018-12-29</td>\n",
       "      <td>Saturday</td>\n",
       "    </tr>\n",
       "    <tr>\n",
       "      <td>363</td>\n",
       "      <td>2018-12-30</td>\n",
       "      <td>Sunday</td>\n",
       "    </tr>\n",
       "    <tr>\n",
       "      <td>364</td>\n",
       "      <td>2018-12-31</td>\n",
       "      <td>Monday</td>\n",
       "    </tr>\n",
       "  </tbody>\n",
       "</table>\n",
       "<p>365 rows × 2 columns</p>\n",
       "</div>"
      ],
      "text/plain": [
       "          date        day\n",
       "0   2018-01-01     Monday\n",
       "1   2018-01-02    Tuesday\n",
       "2   2018-01-03  Wednesday\n",
       "3   2018-01-04   Thursday\n",
       "4   2018-01-05     Friday\n",
       "..         ...        ...\n",
       "360 2018-12-27   Thursday\n",
       "361 2018-12-28     Friday\n",
       "362 2018-12-29   Saturday\n",
       "363 2018-12-30     Sunday\n",
       "364 2018-12-31     Monday\n",
       "\n",
       "[365 rows x 2 columns]"
      ]
     },
     "execution_count": 11,
     "metadata": {},
     "output_type": "execute_result"
    }
   ],
   "source": [
    "# Creating second column: days.\n",
    "df['day'] = df['date'].dt.day_name()\n",
    "\n",
    "# Changing datatype from object to categorical.\n",
    "df['day'] = df['day'].astype('category')\n",
    "\n",
    "# Printing current dataset.\n",
    "df"
   ]
  },
  {
   "cell_type": "markdown",
   "metadata": {},
   "source": [
    "Dates and days of the week could be considered to be discrete uniform distributions as there is a finite number of values for each and no instance is more likely to occur than any other. The plot below demonstrates this. "
   ]
  },
  {
   "cell_type": "code",
   "execution_count": 21,
   "metadata": {},
   "outputs": [
    {
     "data": {
      "image/png": "[encoded data removed]",
      "text/plain": [
       "<Figure size 576x288 with 1 Axes>"
      ]
     },
     "metadata": {
      "needs_background": "light"
     },
     "output_type": "display_data"
    }
   ],
   "source": [
    "# Plotting day distributiions.\n",
    "plt.figure(figsize=(8, 4))\n",
    "sns.countplot(df.day, orient='h')\n",
    "plt.show()"
   ]
  },
  {
   "cell_type": "markdown",
   "metadata": {},
   "source": [
    "## Calories In\n",
    "\n",
    "To track her calorie intake, Zoe used the LoseIt app, (https://www.loseit.com/) which allows her to log everything she eats and provides her with a calorie total at the end of every day that she then logs into her spreadsheet. She decides not to be too strict with herself about sticking to  specific goal such as this, which will change based  \n",
    "\n",
    "It is not healthy to go below 1200 calories daily as it would be difficult to get the nutrition the body needs (https://www.everydayhealth.com/weight/can-more-calories-equal-more-weight-loss.aspx\n",
    "\n",
    " "
   ]
  },
  {
   "cell_type": "markdown",
   "metadata": {},
   "source": [
    "The randint function allows me to set minimum and maximum calorie values and was my first thought when trying to come up with a suitable function. As can be seen below, it returns 365 integer values that could potentially be used as calorie measurements."
   ]
  },
  {
   "cell_type": "code",
   "execution_count": null,
   "metadata": {},
   "outputs": [],
   "source": [
    "# Using randint for calorie in values\n",
    "first_attempt = np.random.randint(1200, 2500, 365)\n",
    "first_attempt"
   ]
  },
  {
   "cell_type": "markdown",
   "metadata": {},
   "source": [
    "However, the distribution for this function is uniform so Zoe is as likely to consume 2000 calories as she is to consume 1000 calories. Her daily calorie goal is the 1500 mark and so most values should ideally be centred around this figure. A normal distribution may work better. "
   ]
  },
  {
   "cell_type": "code",
   "execution_count": null,
   "metadata": {},
   "outputs": [],
   "source": [
    "sns.distplot(first_attempt)\n",
    "plt.show()"
   ]
  },
  {
   "cell_type": "markdown",
   "metadata": {},
   "source": [
    "Again there is an issue as just using a regular normal distribution can return some values that are unrealistically below the minimum threshold of 1200 calories. Setting the mean to 1500 and "
   ]
  },
  {
   "cell_type": "code",
   "execution_count": null,
   "metadata": {},
   "outputs": [],
   "source": [
    "second_attempt = np.random.normal(1500, 200, 365)\n",
    "second_attempt"
   ]
  },
  {
   "cell_type": "markdown",
   "metadata": {},
   "source": [
    "The solution seemed to be using what is called a truncated normal distribution,(https://en.wikipedia.org/wiki/Truncated_normal_distribution) which allows upper and lower limits to be set and the data within is normally distributed. The function created below  uses *truncnorm* to generate 365 random numbers that are:\n",
    "\n",
    "- not less than 1200. \n",
    "- not greater than 2500. \n",
    "- centre around an average value of 1500 with a standard deviation of 200.\n",
    "\n",
    "The numbers are converted to integer values as no one would realistically track decimals of a calorie. The array below shows the output of the function and the numbers look to be an accurate representation of what is required. "
   ]
  },
  {
   "cell_type": "code",
   "execution_count": null,
   "metadata": {},
   "outputs": [],
   "source": [
    "# https://stackoverflow.com/a/18444710 \n",
    "# https://stackoverflow.com/a/53948014\n",
    "# https://docs.scipy.org/doc/scipy-0.15.1/reference/generated/scipy.stats.truncnorm.html\n",
    "# https://stackoverflow.com/a/37411711\n",
    "    \n",
    "def cal_in():\n",
    "    low = 1200\n",
    "    high = 2200\n",
    "    mu = 1649\n",
    "    sigma = 100\n",
    "    x = stats.truncnorm((low - mu) / sigma, (high - mu) / sigma, loc=mu, scale=sigma)\n",
    "    cal_val = x.rvs(365).astype(int)\n",
    "    return cal_val\n",
    "\n",
    "cal_in()"
   ]
  },
  {
   "cell_type": "markdown",
   "metadata": {},
   "source": [
    "The plot shows the distribution of these values. The vast majority are very close to the 1500 calorie mark as the standard deviation (sigma) was set quite low at only 100 calories. The reason for this is outlined below."
   ]
  },
  {
   "cell_type": "code",
   "execution_count": null,
   "metadata": {},
   "outputs": [],
   "source": [
    "# Plotting the distribution of calories_in\n",
    "sns.distplot(cal_in()) \n",
    "plt.title('values created by the calories_in function')\n",
    "plt.show()"
   ]
  },
  {
   "cell_type": "markdown",
   "metadata": {},
   "source": [
    "Like many people,  Zoe tends to consume more calories over the weekend than during the week. (https://www.webmd.com/diet/features/avoid-weekend-weight-gain#1) Being aware of this, she tries as best she can to stick closely to the 1500 calorie budget during the week. To reflect this, the sigma value in the *cal_in* function above was set to just 100 calories to keep values close to 1500. At the weekend she can potentially consume between 250-500 calories (https://www.ncbi.nlm.nih.gov/pmc/articles/PMC5928328/) over her target calorie amount. When creating the calories_in column below, the days Saturday and Sunday get a random integer between 250-500 added to the value that was generated by the *cal_in* function. "
   ]
  },
  {
   "cell_type": "code",
   "execution_count": null,
   "metadata": {},
   "outputs": [],
   "source": [
    "# https://note.nkmk.me/en/python-numpy-where/\n",
    "# https://chrisalbon.com/python/data_wrangling/pandas_create_column_using_conditional/\n",
    "\n",
    "# Creating extra calorie amounts to be added to weekends.\n",
    "extra_cal = np.random.randint(200, 400)\n",
    "\n",
    "# Creating calories_in column with weekend values adjusted.\n",
    "df['calories_in'] = np.where((((df['day'])=='Saturday') | ((df['day'])=='Sunday')), cal_in() + extra_cal, cal_in())\n",
    "\n",
    "df"
   ]
  },
  {
   "cell_type": "code",
   "execution_count": null,
   "metadata": {},
   "outputs": [],
   "source": [
    "df.calories_in.mean()"
   ]
  },
  {
   "cell_type": "markdown",
   "metadata": {},
   "source": [
    "## Exercise\n",
    "\n",
    "For exercise, look into how different exercises affect weight loss - a combination of cardio, strength training and flexibility training: https://www.verywellfit.com/types-of-exercise-for-weight-loss-3495992\n",
    "With random choice the options are (None, Walk, Jog, Yoga)\n",
    "\n",
    "Use choice as you can set probability for each option.\n",
    "\n",
    "Say I do some form of exercise about 5 days per week: None = 2 * 17 = 34 days of no exercise = ~28% (make it 29 for 100% probability altogether)\n",
    "\n",
    "Walk 3 days per week: Walk = 3 * 104 = 51 walks = ~43%\n",
    "\n",
    "Jog 1 day per week = 17 jogs = ~14%\n",
    "\n",
    "Yoga class about 1 day per week = 17 yoga classes = ~14%\n",
    "\n",
    "Exercise not the most important thing for weight loss: https://www.vox.com/2016/4/28/11518804/weight-loss-exercise-myth-burn-calories\n",
    "\n",
    "Exercise and calories burned: https://www.sciencealert.com/how-to-calculate-calories-burned-met-value-exercise?perpetual=yes&limitstart=1"
   ]
  },
  {
   "cell_type": "code",
   "execution_count": null,
   "metadata": {},
   "outputs": [],
   "source": [
    "# List of exercise activities.\n",
    "# https://stackoverflow.com/a/52923373\n",
    "activities = [\"none\", \"walk\", \"jog\", \"yoga\"]\n",
    "\n",
    "# Separating out days of the week.\n",
    "sat = df['day'] == 'Saturday'\n",
    "sun = df['day'] == 'Sunday'\n",
    "mon = df['day'] == 'Monday'\n",
    "tue = df['day'] == 'Tuesday'\n",
    "wed = df['day'] == 'Wednesday'\n",
    "thu = df['day'] == 'Thursday'\n",
    "fri = df['day'] == 'Friday'\n",
    "\n",
    "# Setting exercise probabilities for each day\n",
    "psat = np.random.choice(activities, size = (365), p=[0, 0.5, 0.2, 0.3])\n",
    "psun = np.random.choice(activities, size = (365), p=[0, 0.75, 0.25, 0])\n",
    "pmon = np.random.choice(activities, size = (365), p=[0.4, 0.5, 0.1, 0])\n",
    "ptue = np.random.choice(activities, size = (365), p=[0.15, 0.25, 0.1, 0.5])\n",
    "pwed = np.random.choice(activities, size = (365), p=[0.3, 0.5, 0.2, 0])\n",
    "pthu = np.random.choice(activities, size = (365), p=[0.3, 0.2, 0, 0.5])\n",
    "pfri = np.random.choice(activities, size = (365), p=[0.2, 0.4, 0.4, 0])\n",
    "\n",
    "# Creating exercise column\n",
    "df['exercise'] = np.select([sat, sun, mon, tue, wed, thu, fri], [psat, psun, pmon, ptue, pwed, pthu, pfri], default=np.nan)\n",
    "\n",
    "# Change from object type to categorical type.\n",
    "# https://pandas.pydata.org/pandas-docs/stable/user_guide/categorical.html\n",
    "df['exercise'] = df['exercise'].astype('category')\n",
    "\n",
    "df"
   ]
  },
  {
   "cell_type": "markdown",
   "metadata": {},
   "source": [
    "Below is a function that tracks the estimated calories burned by exercising. Zoe exercises most days per week and averages at about 45 minutes per session. She uses her fitbit (https://www.fitbit.com/ie/home) to approximate the number of calories burned during each exercise session and logs that into her spreadsheet.  "
   ]
  },
  {
   "cell_type": "code",
   "execution_count": null,
   "metadata": {
    "scrolled": true
   },
   "outputs": [],
   "source": [
    "# https://stackoverflow.com/questions/26886653/pandas-create-new-column-based-on-values-from-other-columns-apply-a-function\n",
    "\n",
    "def exercise_cals(row):\n",
    "    if row['exercise'] == 'yoga':\n",
    "        return int(np.random.normal(150, 50))\n",
    "    if row['exercise'] == 'walk':\n",
    "        return int(np.random.normal(250, 50))\n",
    "    if row['exercise'] == 'jog':\n",
    "        return int(np.random.normal(300))\n",
    "    if row['exercise'] == 'none':\n",
    "        return 0\n",
    "    \n",
    "df['exercise_cals'] = df.apply(lambda row: exercise_cals(row), axis = 1)\n",
    "df"
   ]
  },
  {
   "cell_type": "markdown",
   "metadata": {},
   "source": [
    "Since BMR and TDEE are both going to change as weight fluctuates, I have created the function below to recalculate them each day as part of the calories burned. I have used the Mifflin-St Jeor calculation as it is widely used and deemed to be quite accurate"
   ]
  },
  {
   "cell_type": "code",
   "execution_count": null,
   "metadata": {},
   "outputs": [],
   "source": [
    "# https://stackoverflow.com/a/36459273\n",
    "# https://stackoverflow.com/a/16327135\n",
    "df['tdee'] = np.nan\n",
    "df.loc[0, 'tdee'] = starting_tdee\n",
    "df"
   ]
  },
  {
   "cell_type": "markdown",
   "metadata": {},
   "source": [
    "Total calorie output is the sum of tdee and exercise_cals to figure out the total estimated number of calories burned each day"
   ]
  },
  {
   "cell_type": "code",
   "execution_count": null,
   "metadata": {},
   "outputs": [],
   "source": [
    "# df['calories_out'] = df['exercise_cals'] + df['tdee']\n",
    "df['calories_out'] = np.nan\n",
    "df.loc[0, 'calories_out'] = df.loc[0, 'exercise_cals'] + df.loc[0, 'tdee']\n",
    "df"
   ]
  },
  {
   "cell_type": "markdown",
   "metadata": {},
   "source": [
    "Calorie difference"
   ]
  },
  {
   "cell_type": "code",
   "execution_count": null,
   "metadata": {},
   "outputs": [],
   "source": [
    "#df['cal_dif'] = df['calories_out'] - df['calories_in']\n",
    "df['cal_dif'] = np.nan\n",
    "df.loc[0, 'cal_dif'] = df.loc[0, 'calories_in'] - df.loc[0, 'calories_out']\n",
    "df"
   ]
  },
  {
   "cell_type": "markdown",
   "metadata": {},
   "source": []
  },
  {
   "cell_type": "code",
   "execution_count": null,
   "metadata": {},
   "outputs": [],
   "source": [
    "#df['kg_lost'] = cal_to_kg(df['cal_dif'])\n",
    "df['kg_lost'] = np.nan\n",
    "df.loc[0, 'kg_lost'] = cal_to_kg(df.loc[0, 'cal_dif'])\n",
    "df"
   ]
  },
  {
   "cell_type": "code",
   "execution_count": null,
   "metadata": {},
   "outputs": [],
   "source": [
    "#['weight'] = np.nan\n",
    "#df['weight'].iloc[[0]] = 80 - df['kg_lost']\n",
    "#df\n",
    "\n",
    "#weight = 80\n",
    "#df['weight'] = weight - df['kg_lost']\n",
    "#df\n",
    "\n",
    "\n",
    "\n",
    "df['weight'] = np.nan\n",
    "df.loc[0, 'weight'] = starting_weight + df.loc[0, 'kg_lost']\n",
    "df"
   ]
  },
  {
   "cell_type": "code",
   "execution_count": null,
   "metadata": {},
   "outputs": [],
   "source": [
    "# BMI\n",
    "\n",
    "starting_bmi = bmi(starting_weight, height/100)\n",
    "df['bmi'] = np.nan\n",
    "df.loc[0, 'bmi'] = bmi(df.loc[0, 'weight'], height)\n",
    "df"
   ]
  },
  {
   "cell_type": "markdown",
   "metadata": {},
   "source": [
    "## Weight Loss\n",
    "\n",
    "Could I do some kind of probability distribution that makes total weight go up/down?\n",
    "\n",
    "Or have one column with weight lost daily/weekly and then add/subtrct that to total weight in another column?\n",
    "\n",
    "Weight lost every week: Say I lose an average of 0.5kg per week with a standard deviation of 0.25 and over a normal distribution.\n",
    "\n",
    "Or with daily say it's 0.1kg per day average with a sd of 0.05g\n",
    "\n",
    "No! I should base the weight loss on the other variables - exercise and calories - with a random amount added or subtracted as weight loss is not exact (is this noise?)\n",
    "\n",
    "\n",
    "To account for daily fluctuations, weight loss or gain will not only depend on calories in/out but will also include a random variant. \n"
   ]
  },
  {
   "cell_type": "code",
   "execution_count": null,
   "metadata": {},
   "outputs": [],
   "source": [
    "# TDEE function\n",
    "# only weight will change in this calculation\n",
    "\n",
    "#weight = df['weight'].iloc[[0]]\n",
    "\n",
    "#def tdee(weight):\n",
    " #   bmr = 10 * weight + 6.25 * 175 - 5 * 30 -161\n",
    "  #  result = bmr * 1.2\n",
    "   # return result\n",
    "\n",
    "#df['tdee'] = tdee(weight)\n",
    "#df"
   ]
  },
  {
   "cell_type": "code",
   "execution_count": null,
   "metadata": {},
   "outputs": [],
   "source": [
    "# https://stackoverflow.com/a/34856727 \n",
    "for i in range(1, len(df)):\n",
    "    df.loc[i, 'tdee'] = tdee(df.loc[i-1, 'weight'])\n",
    "    \n",
    "    df.loc[i, 'calories_out'] = df.loc[i, 'exercise_cals'] + df.loc[i, 'tdee']\n",
    "    \n",
    "    df.loc[i, 'cal_dif'] = df.loc[i, 'calories_in'] - df.loc[i, 'calories_out'] \n",
    "    \n",
    "    df.loc[i, 'kg_lost'] = cal_to_kg(df.loc[i, 'cal_dif']) + (np.random.choice((-1, 1)) * np.random.normal(0.03, 0.02))\n",
    "    \n",
    "    df.loc[i, 'weight'] = df.loc[i-1, 'weight'] + df.loc[i, 'kg_lost'] \n",
    "    \n",
    "    df.loc[i, 'bmi'] = bmi(df.loc[i, 'weight'], height)"
   ]
  },
  {
   "cell_type": "code",
   "execution_count": null,
   "metadata": {},
   "outputs": [],
   "source": [
    "df"
   ]
  },
  {
   "cell_type": "code",
   "execution_count": null,
   "metadata": {},
   "outputs": [],
   "source": [
    "# Converting to integers and rounding weight\n",
    "\n",
    "df['tdee'] = df.tdee.astype(int)\n",
    "\n",
    "df['calories_out'] = df.calories_out.astype(int)\n",
    "\n",
    "df['cal_dif'] = df.cal_dif.astype(int)\n",
    "\n",
    "df['weight']= df.weight.round(3)"
   ]
  },
  {
   "cell_type": "code",
   "execution_count": null,
   "metadata": {},
   "outputs": [],
   "source": [
    "df.dtypes"
   ]
  },
  {
   "cell_type": "code",
   "execution_count": null,
   "metadata": {},
   "outputs": [],
   "source": [
    "df.kg_lost.std()"
   ]
  },
  {
   "cell_type": "code",
   "execution_count": null,
   "metadata": {},
   "outputs": [],
   "source": [
    "df"
   ]
  },
  {
   "cell_type": "code",
   "execution_count": null,
   "metadata": {},
   "outputs": [],
   "source": [
    "# if i want to make date the index\n"
   ]
  },
  {
   "cell_type": "code",
   "execution_count": null,
   "metadata": {},
   "outputs": [],
   "source": [
    "df"
   ]
  },
  {
   "cell_type": "code",
   "execution_count": null,
   "metadata": {},
   "outputs": [],
   "source": []
  }
 ],
 "metadata": {
  "kernelspec": {
   "display_name": "Python 3",
   "language": "python",
   "name": "python3"
  },
  "language_info": {
   "codemirror_mode": {
    "name": "ipython",
    "version": 3
   },
   "file_extension": ".py",
   "mimetype": "text/x-python",
   "name": "python",
   "nbconvert_exporter": "python",
   "pygments_lexer": "ipython3",
   "version": "3.7.4"
  },
  "toc": {
   "base_numbering": 1,
   "nav_menu": {},
   "number_sections": true,
   "sideBar": false,
   "skip_h1_title": true,
   "title_cell": "Table of Contents",
   "title_sidebar": "Contents",
   "toc_cell": true,
   "toc_position": {},
   "toc_section_display": true,
   "toc_window_display": false
  }
 },
 "nbformat": 4,
 "nbformat_minor": 2
}
